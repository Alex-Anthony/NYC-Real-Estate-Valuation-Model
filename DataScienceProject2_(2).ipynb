{
  "cells": [
    {
      "cell_type": "markdown",
      "metadata": {
        "id": "view-in-github",
        "colab_type": "text"
      },
      "source": [
        "<a href=\"https://colab.research.google.com/github/Alex-Anthony/NYC-Real-Estate-Valuation-Model/blob/main/DataScienceProject2_(2).ipynb\" target=\"_parent\"><img src=\"https://colab.research.google.com/assets/colab-badge.svg\" alt=\"Open In Colab\"/></a>"
      ]
    },
    {
      "cell_type": "code",
      "execution_count": null,
      "metadata": {
        "colab": {
          "base_uri": "https://localhost:8080/",
          "height": 383
        },
        "id": "bdu-stMDC9lL",
        "outputId": "4cd8b7fe-d348-45ae-c5b5-629a08e3b618"
      },
      "outputs": [
        {
          "output_type": "error",
          "ename": "ModuleNotFoundError",
          "evalue": "No module named 'sodapy'",
          "traceback": [
            "\u001b[0;31m---------------------------------------------------------------------------\u001b[0m",
            "\u001b[0;31mModuleNotFoundError\u001b[0m                       Traceback (most recent call last)",
            "\u001b[0;32m<ipython-input-1-0fc22abe8d1c>\u001b[0m in \u001b[0;36m<cell line: 14>\u001b[0;34m()\u001b[0m\n\u001b[1;32m     12\u001b[0m \u001b[0;32mimport\u001b[0m \u001b[0mmatplotlib\u001b[0m\u001b[0;34m.\u001b[0m\u001b[0mpyplot\u001b[0m \u001b[0;32mas\u001b[0m \u001b[0mplt\u001b[0m\u001b[0;34m\u001b[0m\u001b[0;34m\u001b[0m\u001b[0m\n\u001b[1;32m     13\u001b[0m \u001b[0;32mfrom\u001b[0m \u001b[0msklearn\u001b[0m \u001b[0;32mimport\u001b[0m \u001b[0mdatasets\u001b[0m\u001b[0;34m\u001b[0m\u001b[0;34m\u001b[0m\u001b[0m\n\u001b[0;32m---> 14\u001b[0;31m \u001b[0;32mfrom\u001b[0m \u001b[0msodapy\u001b[0m \u001b[0;32mimport\u001b[0m \u001b[0mSocrata\u001b[0m\u001b[0;34m\u001b[0m\u001b[0;34m\u001b[0m\u001b[0m\n\u001b[0m\u001b[1;32m     15\u001b[0m \u001b[0;34m\u001b[0m\u001b[0m\n\u001b[1;32m     16\u001b[0m \u001b[0;34m\u001b[0m\u001b[0m\n",
            "\u001b[0;31mModuleNotFoundError\u001b[0m: No module named 'sodapy'",
            "",
            "\u001b[0;31m---------------------------------------------------------------------------\u001b[0;32m\nNOTE: If your import is failing due to a missing package, you can\nmanually install dependencies using either !pip or !apt.\n\nTo view examples of installing some common dependencies, click the\n\"Open Examples\" button below.\n\u001b[0;31m---------------------------------------------------------------------------\u001b[0m\n"
          ],
          "errorDetails": {
            "actions": [
              {
                "action": "open_url",
                "actionText": "Open Examples",
                "url": "/notebooks/snippets/importing_libraries.ipynb"
              }
            ]
          }
        }
      ],
      "source": [
        "# !pip install requests\n",
        "# !pip install sodapy\n",
        "\n",
        "import requests\n",
        "from requests.auth import HTTPBasicAuth\n",
        "\n",
        "## Understanding, Exploring and Visualizing Data\n",
        "import pandas as pd\n",
        "import seaborn as sns\n",
        "import matplotlib\n",
        "import numpy as np\n",
        "import matplotlib.pyplot as plt\n",
        "from sklearn import datasets\n",
        "from sodapy import Socrata\n",
        "\n",
        "\n",
        "from sklearn.model_selection import train_test_split\n",
        "from sklearn.ensemble import RandomForestRegressor\n",
        "from sklearn.preprocessing import LabelEncoder\n",
        "from sklearn.metrics import mean_squared_error\n",
        "\n",
        "\n",
        "import pandas as pd\n",
        "from sklearn.model_selection import train_test_split\n",
        "from sklearn.preprocessing import StandardScaler\n",
        "from sklearn.preprocessing import MinMaxScaler\n",
        "from sklearn.tree import DecisionTreeClassifier\n",
        "from sklearn.ensemble import GradientBoostingClassifier\n",
        "from sklearn.ensemble import RandomForestClassifier\n",
        "from sklearn.linear_model import LinearRegression\n",
        "from sklearn.linear_model import LogisticRegression\n",
        "from sklearn.svm import LinearSVC\n",
        "from sklearn.neighbors import KNeighborsClassifier\n",
        "from sklearn.metrics import accuracy_score, confusion_matrix\n",
        "import pandas as pd\n",
        "from sklearn.model_selection import train_test_split\n",
        "from sklearn.linear_model import LinearRegression\n",
        "from sklearn.metrics import mean_squared_error\n",
        "from sklearn.preprocessing import OneHotEncoder\n",
        "from sklearn.compose import ColumnTransformer\n",
        "from sklearn.pipeline import Pipeline\n",
        "import dask.dataframe as dd\n"
      ]
    },
    {
      "cell_type": "code",
      "execution_count": null,
      "metadata": {
        "colab": {
          "base_uri": "https://localhost:8080/"
        },
        "id": "cry5oVSCGK-X",
        "outputId": "76cb8110-2457-4838-f590-976f79259033"
      },
      "outputs": [
        {
          "ename": "",
          "evalue": "",
          "output_type": "error",
          "traceback": [
            "\u001b[1;31mRunning cells with 'Python 3.12.2' requires the ipykernel package.\n",
            "\u001b[1;31mRun the following command to install 'ipykernel' into the Python environment. \n",
            "\u001b[1;31mCommand: 'c:/Python312/python.exe -m pip install ipykernel -U --user --force-reinstall'"
          ]
        }
      ],
      "source": [
        "'''\n",
        "# First Dataset (2010 - 2019)\n",
        "# https://data.cityofnewyork.us/City-Government/Property-Valuation-and-Assessment-Data/yjxr-fw8i/about_data\n",
        "api_endpoint = \"https://data.cityofnewyork.us/resource/yjxr-fw8i.json\"\n",
        "api_key = \"7cdpwsl5p8eqeg1d24xsbq64w\"\n",
        "api_secret = \"31grq5eswi42uh3k9hu6eyjlkp3x0wb0bsyk4r9yu2jz2mr6b9\"\n",
        "\n",
        "response = requests.get(api_endpoint, auth=HTTPBasicAuth(api_key, api_secret))\n",
        "\n",
        "limit = 1000  # Number of items per request\n",
        "offset = 0    # Starting point for each request\n",
        "# Total records in the file is 9845857, we are omitting 2 records\n",
        "total_records = 9845855  # Total records in the dataset (adjust as needed)\n",
        "\n",
        "# Initialize an empty DataFrame to store all data\n",
        "all_data = pd.DataFrame()\n",
        "i =  0\n",
        "\n",
        "# We are only taking the first 60k data\n",
        "# 20022\n",
        "\n",
        "while i < 5:\n",
        "    i += 1\n",
        "    # Use the API call to request the server for info\n",
        "    response = requests.get(api_endpoint, auth=HTTPBasicAuth(api_key, api_secret),\n",
        "                            params={\"$limit\": limit, \"$offset\": offset})\n",
        "\n",
        "    # Check if the request was successful\n",
        "    if response.status_code == 200:\n",
        "        # Load current data into a DataFrame\n",
        "        current_data = pd.DataFrame(response.json())\n",
        "\n",
        "        # Concatenate the current data to the main DataFrame\n",
        "        all_data = pd.concat([all_data, current_data], ignore_index=True)\n",
        "\n",
        "        # Update the offset for the next request\n",
        "        offset += limit\n",
        "        #print(current_data)\n",
        "    else:\n",
        "        print(f\"Failed to fetch data: {response.status_code}\")\n",
        "        print(response.text)\n",
        "        break\n",
        "\n",
        "# Save the DataFrame to a CSV file\n",
        "all_data.to_csv('nyc_data1.csv', index=False)\n",
        "\n",
        "# Display the shape of the DataFrame to verify the number of rows loaded\n",
        "# print(all_data.shape)\n",
        "\n",
        "\n",
        "df1 = all_data\n",
        "df1.info()\n",
        "'''\n",
        "\n",
        "df1 = pd.read_csv(\"C:\\Users\\alex1\\Downloads\\ISEData\\Property_Valuation_and_Assessment_Data_20240205.csv\")\n"
      ]
    },
    {
      "cell_type": "code",
      "execution_count": null,
      "metadata": {
        "id": "XlzwJR_c6AZF",
        "outputId": "8ab5905e-937c-49df-a1a2-3c90757c2e37"
      },
      "outputs": [
        {
          "ename": "",
          "evalue": "",
          "output_type": "error",
          "traceback": [
            "\u001b[1;31mRunning cells with 'Python 3.12.2' requires the ipykernel package.\n",
            "\u001b[1;31mRun the following command to install 'ipykernel' into the Python environment. \n",
            "\u001b[1;31mCommand: 'c:/Python312/python.exe -m pip install ipykernel -U --user --force-reinstall'"
          ]
        }
      ],
      "source": [
        "df1"
      ]
    },
    {
      "cell_type": "code",
      "execution_count": null,
      "metadata": {
        "colab": {
          "base_uri": "https://localhost:8080/",
          "height": 236
        },
        "id": "no0qDem4GK4A",
        "outputId": "2b748f85-2b0b-4e7a-ded5-b8fcfbcf7e0e"
      },
      "outputs": [
        {
          "ename": "",
          "evalue": "",
          "output_type": "error",
          "traceback": [
            "\u001b[1;31mRunning cells with 'Python 3.12.2' requires the ipykernel package.\n",
            "\u001b[1;31mRun the following command to install 'ipykernel' into the Python environment. \n",
            "\u001b[1;31mCommand: 'c:/Python312/python.exe -m pip install ipykernel -U --user --force-reinstall'"
          ]
        }
      ],
      "source": [
        "'''\n",
        "# Second Dataset (NEW) (2021-2023)\n",
        "# https://data.cityofnewyork.us/City-Government/Property-Valuation-and-Assessment-Data-Tax-Classes/8y4t-faws/data_preview\n",
        "\n",
        "api_endpoint = \"https://data.cityofnewyork.us/resource/8y4t-faws.json\"\n",
        "api_key = \"6iicdls0lllux5k2zh4wmcbcy\"\n",
        "api_secret = \"nol8pwnk4foppzbxrm8vl23sgljt0mqzkxpzo0xscgbxs1zv9\"\n",
        "\n",
        "response = requests.get(api_endpoint, auth=HTTPBasicAuth(api_key, api_secret))\n",
        "\n",
        "limit = 1000  # Number of items per request\n",
        "offset = 0    # Starting point for each request\n",
        "# Total records in the file is 9845857, we are omitting 2 records\n",
        "total_records = 9845855  # Total records in the dataset (adjust as needed)\n",
        "\n",
        "# Initialize an empty DataFrame to store all data\n",
        "all_data = pd.DataFrame()\n",
        "i =  0\n",
        "\n",
        "# We are only taking the first 60k data\n",
        "# 200\n",
        "while i < 50:\n",
        "    i += 1\n",
        "    # Use the API call to request the server for info\n",
        "    response = requests.get(api_endpoint, auth=HTTPBasicAuth(api_key, api_secret),\n",
        "                            params={\"$limit\": limit, \"$offset\": offset})\n",
        "\n",
        "    # Check if the request was successful\n",
        "    if response.status_code == 200:\n",
        "        # Load current data into a DataFrame\n",
        "        current_data = pd.DataFrame(response.json())\n",
        "\n",
        "        # Concatenate the current data to the main DataFrame\n",
        "        all_data = pd.concat([all_data, current_data], ignore_index=True)\n",
        "\n",
        "        # Update the offset for the next request\n",
        "        offset += limit\n",
        "        #print(current_data)\n",
        "    else:\n",
        "        print(f\"Failed to fetch data: {response.status_code}\")\n",
        "        print(response.text)\n",
        "        break\n",
        "\n",
        "# Save the DataFrame to a CSV file\n",
        "all_data.to_csv('nyc_data2.csv', index=False)\n",
        "\n",
        "# Display the shape of the DataFrame to verify the number of rows loaded\n",
        "# print(all_data.shape)\n",
        "\n",
        "\n",
        "df2 = all_data\n",
        "df2.head()\n",
        "'''"
      ]
    },
    {
      "cell_type": "markdown",
      "metadata": {
        "id": "AJwJdGMrh3tu"
      },
      "source": [
        "\n",
        "Dataset common:\n",
        "\n",
        "Dataset1:Dataset2\n",
        "\n",
        "2010      :    2025\n",
        "\n",
        "\n",
        "\n",
        "---\n",
        "\n",
        "\n",
        "boro : boro              (borough)\n",
        "\n",
        "block : block            (block range by borough)\n",
        "\n",
        "lot : lot                     (Unique number within BORO/BLOCK)\n",
        "\n",
        "easement : easement (codes for things such as A for air rights and R for railroads)\n",
        "\n",
        "year : year\n",
        "\n",
        "FINTAXCLASS : taxclass\n",
        "\n",
        "bldg_class : bldgcl      (building class)\n",
        "\n",
        "owner : owner\n",
        "\n",
        "street_name : staddr    (street name : street address   (is there a diff))\n",
        "\n",
        "LOT_FRT : LTFRONT     (lot frontage : lot width)\n",
        "\n",
        "LOT_DEP : ltdep           (lot depth)\n",
        "\n",
        "bld_story : stories       (number of stories)\n",
        "\n",
        "\n",
        "PYMKTLAND : FULLVAL                 Market Assessed Land Value\n",
        "\n",
        "PYACTLAND : AVLAND                  Actual Assessed Land Value\n",
        "\n",
        "PYACTTOT : AVTOT                        Actual Assessed Total Value\n",
        "\n",
        "\n",
        "\n",
        "\n",
        "---\n",
        "\n",
        "\n",
        "Dataset 1 Useful:\n",
        "\n",
        "\n",
        "(These values are originally assessed)\n",
        "\n",
        "PYMKTLAND             Market Assessed Land Value\n",
        "\n",
        "PYMKTTOT                Market Assessed Total Value\n",
        "\n",
        "PYACTLAND              Actual Assessed Land Value\n",
        "\n",
        "PYACTTOT                 Actual Assessed Total Value\n",
        "\n",
        "PYTAXCLASS             Property Tax Class\n",
        "\n",
        "\n",
        "(These values are finally assessed)\n",
        "\n",
        "FINMKTLAND              Final Market Assessed Land Value\n",
        "\n",
        "FINMKTTOT                 Final Market Assessed Total Value\n",
        "\n",
        "FINACTLAND               Final Actual Assessed Land Value\n",
        "\n",
        "FINACTTOT                  Final Actual Assessed Total Value\n",
        "\n",
        "FINTAXCLASS              Property Tax Class\n",
        "\n",
        "\n",
        "(These values are currently assessed)\n",
        "\n",
        "CURMKTLAND            Current Market Assessed Land Value\n",
        "\n",
        "CURMKTTOT               Current Market Assessed Total Value\n",
        "\n",
        "CURACTLAND             Current Actual Assessed Land Value\n",
        "\n",
        "CURACTTOT                Current Actual Assessed Total Value\n",
        "\n",
        "\n",
        "noav                           A building in progress\n",
        "\n",
        "stcode                        street code (idk)\n",
        "\n",
        "\n",
        "\n",
        "\n",
        "---\n",
        "\n",
        "\n",
        "\n",
        "Dataset 2 Useful:\n",
        "\n",
        "FULLVAL            Market Value\n",
        "\n",
        "AVLAND            Actual Land Value\n",
        "\n",
        "AVTOT               Actual Total Value\n"
      ]
    },
    {
      "cell_type": "code",
      "execution_count": null,
      "metadata": {
        "colab": {
          "base_uri": "https://localhost:8080/"
        },
        "id": "Py1S2O6-f1VA",
        "outputId": "ebc39960-585f-414a-e18b-4e9d7432b246"
      },
      "outputs": [
        {
          "ename": "",
          "evalue": "",
          "output_type": "error",
          "traceback": [
            "\u001b[1;31mRunning cells with 'Python 3.12.2' requires the ipykernel package.\n",
            "\u001b[1;31mRun the following command to install 'ipykernel' into the Python environment. \n",
            "\u001b[1;31mCommand: 'c:/Python312/python.exe -m pip install ipykernel -U --user --force-reinstall'"
          ]
        }
      ],
      "source": [
        "# Read from CSV\n",
        "df2 = pd.read_csv(\"C:\\Users\\alex1\\Downloads\\ISEData\\Property_Valuation_and_Assessment_Data_Tax_Classes_1_2_3_4_20240409.csv\")"
      ]
    },
    {
      "cell_type": "code",
      "execution_count": null,
      "metadata": {
        "colab": {
          "base_uri": "https://localhost:8080/"
        },
        "id": "LI7VStz0tRXJ",
        "outputId": "0abbb4d6-c8fa-42bf-954a-8d90a393c1ac"
      },
      "outputs": [
        {
          "ename": "",
          "evalue": "",
          "output_type": "error",
          "traceback": [
            "\u001b[1;31mRunning cells with 'Python 3.12.2' requires the ipykernel package.\n",
            "\u001b[1;31mRun the following command to install 'ipykernel' into the Python environment. \n",
            "\u001b[1;31mCommand: 'c:/Python312/python.exe -m pip install ipykernel -U --user --force-reinstall'"
          ]
        }
      ],
      "source": [
        "df2['pymktland']"
      ]
    },
    {
      "cell_type": "code",
      "execution_count": null,
      "metadata": {
        "id": "l-UY7l3p6AZJ",
        "outputId": "19b766b7-c587-467a-f067-265cb8650b0c"
      },
      "outputs": [
        {
          "ename": "",
          "evalue": "",
          "output_type": "error",
          "traceback": [
            "\u001b[1;31mRunning cells with 'Python 3.12.2' requires the ipykernel package.\n",
            "\u001b[1;31mRun the following command to install 'ipykernel' into the Python environment. \n",
            "\u001b[1;31mCommand: 'c:/Python312/python.exe -m pip install ipykernel -U --user --force-reinstall'"
          ]
        }
      ],
      "source": [
        "# This is to combine the values we want from df1 (2010-2019) and df2 (2021-2025), we have also cut the data to 2021-2023\n",
        "# This is because d1 has the years formatted like this 2010/11 when we want it as a signular year 2010\n",
        "print(\"step2\")\n",
        "print(df1)\n",
        "\n",
        "# Convert column names to lowercase\n",
        "df1.columns = [col.lower() for col in df1.columns]\n"
      ]
    },
    {
      "cell_type": "code",
      "execution_count": null,
      "metadata": {
        "id": "SwaAPCEo6AZJ",
        "outputId": "c77ef0e0-a944-4472-c891-217cffef1429"
      },
      "outputs": [
        {
          "ename": "",
          "evalue": "",
          "output_type": "error",
          "traceback": [
            "\u001b[1;31mRunning cells with 'Python 3.12.2' requires the ipykernel package.\n",
            "\u001b[1;31mRun the following command to install 'ipykernel' into the Python environment. \n",
            "\u001b[1;31mCommand: 'c:/Python312/python.exe -m pip install ipykernel -U --user --force-reinstall'"
          ]
        }
      ],
      "source": [
        "# Print the modified column names to verify\n",
        "print(df1.columns)\n",
        "df1['year'] = df1['year'].str.slice(0, 4)\n",
        "\n",
        "print(\"step3\")\n",
        "print(\"_________________________\")\n",
        "print(df1)\n",
        "print(df2)\n",
        "\n",
        "# Drop rows where the year is 2024 or 2025\n",
        "df2 = df2[~df2['year'].isin([2024, 2025])]\n"
      ]
    },
    {
      "cell_type": "code",
      "execution_count": null,
      "metadata": {
        "id": "Rjz73cgg6AZJ",
        "outputId": "f72f761f-8921-45cd-e0ef-8ea9f235d0f8"
      },
      "outputs": [
        {
          "ename": "",
          "evalue": "",
          "output_type": "error",
          "traceback": [
            "\u001b[1;31mRunning cells with 'Python 3.12.2' requires the ipykernel package.\n",
            "\u001b[1;31mRun the following command to install 'ipykernel' into the Python environment. \n",
            "\u001b[1;31mCommand: 'c:/Python312/python.exe -m pip install ipykernel -U --user --force-reinstall'"
          ]
        }
      ],
      "source": [
        "print(df2)"
      ]
    },
    {
      "cell_type": "code",
      "execution_count": null,
      "metadata": {
        "id": "1nlRah-Z6AZK",
        "outputId": "fccd5863-ec33-46af-8a01-839ab6e1b166"
      },
      "outputs": [
        {
          "ename": "",
          "evalue": "",
          "output_type": "error",
          "traceback": [
            "\u001b[1;31mRunning cells with 'Python 3.12.2' requires the ipykernel package.\n",
            "\u001b[1;31mRun the following command to install 'ipykernel' into the Python environment. \n",
            "\u001b[1;31mCommand: 'c:/Python312/python.exe -m pip install ipykernel -U --user --force-reinstall'"
          ]
        }
      ],
      "source": [
        "columns_mapping = {\n",
        "    'boro': 'boro',             # d2:boro -> d3:boro\n",
        "    'block': 'block',           # d2:block -> d3:block\n",
        "    'lot': 'lot',               # d2:lot -> d3:lot\n",
        "    'easement': 'easement',     # d2:easement -> d3:easement\n",
        "    'year': 'year',             # d2:year -> d3:year\n",
        "    'fintaxclass': 'taxclass',  # d2:FINTAXCLASS -> d3:taxclass\n",
        "    'bldg_class': 'bldgcl',     # d2:bldg_class -> d3:bldgcl\n",
        "    'owner': 'owner',           # d2:owner -> d3:owner\n",
        "    'street_name': 'staddr',    # d2:street_name -> d3:staddr\n",
        "    'lot_frt': 'ltfront',       # d2:LOT_FRT -> d3:LTFRONT\n",
        "    'lot_dep': 'ltdepth',         # d2:LOT_DEP -> d3:ltdep\n",
        "    'bld_story': 'stories',     # d2:bld_story -> d3:stories\n",
        "    'pymktland': 'fullval',     # d2:PYMKTLAND -> d3:FULLVAL\n",
        "    'pyactland': 'avland',      # d2:PYACTLAND -> d3:AVLAND\n",
        "    'pyacttot': 'avtot'         # d2:PYACTTOT -> d3:AVTOT\n",
        "}\n",
        "\n",
        "\n",
        "df3_columns = ['boro', 'block', 'lot', 'easement', 'year', 'taxclass', 'bldgcl',\n",
        "              'owner', 'staddr', 'ltfront', 'ltdepth', 'stories', 'fullval', 'avland', 'avtot']\n",
        "\n",
        "df3 = pd.DataFrame(columns=df3_columns)\n",
        "\n",
        "# Select columns safely from df1_renamed and df2\n",
        "# df2_renamed = df2.rename(columns={v: k for k, v in columns_mapping.items()})\n",
        "\n",
        "# Create a new dictionary with keys and values swapped\n",
        "'''\n",
        "swapped_columns_mapping = {}\n",
        "for original_column, new_column in columns_mapping.items():\n",
        "    swapped_columns_mapping[new_column] = original_column\n",
        "\n",
        "# Use the new dictionary to rename columns in df2\n",
        "df2_renamed = df2.rename(columns=swapped_columns_mapping)\n",
        "print(df2_renamed)\n",
        "df2_selected = df2_renamed.reindex(columns=df3_columns)\n",
        "\n",
        "\n",
        "# df1_selected = df1.reindex(columns=df3_columns)\n",
        "\n",
        "'''\n",
        "# Step 1: Filter columns in df2 that are keys in the columns_mapping\n",
        "df2_filtered = df2[list(columns_mapping.keys())]\n",
        "\n",
        "# Step 2: Rename columns in df2 according to the mapping\n",
        "df2_renamed = df2_filtered.rename(columns=columns_mapping)\n",
        "\n",
        "# Step 3: Merge or Update\n",
        "# Option 1: Merge\n",
        "df3_merged = pd.merge(df3, df2_renamed, on=list(columns_mapping.values()), how='outer')\n",
        "print(df3_merged)\n",
        "# Option 2: Update\n",
        "df3.update(df2_renamed)\n",
        "print(df3_merged)"
      ]
    },
    {
      "cell_type": "code",
      "execution_count": null,
      "metadata": {
        "colab": {
          "base_uri": "https://localhost:8080/",
          "height": 424
        },
        "id": "L7uSGb6GbIXc",
        "outputId": "197d7fab-8daf-4599-c72b-0f76b9ffdc68"
      },
      "outputs": [
        {
          "ename": "",
          "evalue": "",
          "output_type": "error",
          "traceback": [
            "\u001b[1;31mRunning cells with 'Python 3.12.2' requires the ipykernel package.\n",
            "\u001b[1;31mRun the following command to install 'ipykernel' into the Python environment. \n",
            "\u001b[1;31mCommand: 'c:/Python312/python.exe -m pip install ipykernel -U --user --force-reinstall'"
          ]
        }
      ],
      "source": [
        "df2_renamed"
      ]
    },
    {
      "cell_type": "code",
      "execution_count": null,
      "metadata": {
        "id": "dG9wuqga6AZK",
        "outputId": "7378aed2-8bfa-440d-a624-1243ab61b4fa"
      },
      "outputs": [
        {
          "ename": "",
          "evalue": "",
          "output_type": "error",
          "traceback": [
            "\u001b[1;31mRunning cells with 'Python 3.12.2' requires the ipykernel package.\n",
            "\u001b[1;31mRun the following command to install 'ipykernel' into the Python environment. \n",
            "\u001b[1;31mCommand: 'c:/Python312/python.exe -m pip install ipykernel -U --user --force-reinstall'"
          ]
        }
      ],
      "source": [
        "df1"
      ]
    },
    {
      "cell_type": "code",
      "execution_count": null,
      "metadata": {
        "id": "0O-A2HGm6AZL",
        "outputId": "a42e7b04-4928-488e-f4a4-d407d8275298"
      },
      "outputs": [
        {
          "ename": "",
          "evalue": "",
          "output_type": "error",
          "traceback": [
            "\u001b[1;31mRunning cells with 'Python 3.12.2' requires the ipykernel package.\n",
            "\u001b[1;31mRun the following command to install 'ipykernel' into the Python environment. \n",
            "\u001b[1;31mCommand: 'c:/Python312/python.exe -m pip install ipykernel -U --user --force-reinstall'"
          ]
        }
      ],
      "source": [
        "df1"
      ]
    },
    {
      "cell_type": "code",
      "execution_count": null,
      "metadata": {
        "id": "OrO1dxjzYfsO",
        "outputId": "c1c70899-27bb-4235-b416-34916a206e4e"
      },
      "outputs": [
        {
          "ename": "",
          "evalue": "",
          "output_type": "error",
          "traceback": [
            "\u001b[1;31mRunning cells with 'Python 3.12.2' requires the ipykernel package.\n",
            "\u001b[1;31mRun the following command to install 'ipykernel' into the Python environment. \n",
            "\u001b[1;31mCommand: 'c:/Python312/python.exe -m pip install ipykernel -U --user --force-reinstall'"
          ]
        }
      ],
      "source": [
        "# Delete any columns in df1 that aren't defined in df3_columns, ignoring case\n",
        "# Convert df1 column names to lower case and store in a variable\n",
        "df1_columns_lower = [col.lower() for col in df1.columns]\n",
        "\n",
        "# Convert df3_columns to lower case and store in a variable\n",
        "df3_columns_lower = [col.lower() for col in df3_columns]\n",
        "\n",
        "# Filter columns in df1\n",
        "# Include only those columns where the lower-cased column name is in df3_columns_lower\n",
        "df1 = df1[[col for col in df1.columns if col.lower() in df3_columns_lower]]\n"
      ]
    },
    {
      "cell_type": "code",
      "execution_count": null,
      "metadata": {
        "id": "Bwb3FArJ6AZL",
        "outputId": "76b27990-608f-4fb2-b3df-9ad89b83d0eb"
      },
      "outputs": [
        {
          "ename": "",
          "evalue": "",
          "output_type": "error",
          "traceback": [
            "\u001b[1;31mRunning cells with 'Python 3.12.2' requires the ipykernel package.\n",
            "\u001b[1;31mRun the following command to install 'ipykernel' into the Python environment. \n",
            "\u001b[1;31mCommand: 'c:/Python312/python.exe -m pip install ipykernel -U --user --force-reinstall'"
          ]
        }
      ],
      "source": [
        "df1"
      ]
    },
    {
      "cell_type": "code",
      "execution_count": null,
      "metadata": {
        "id": "fP1ZlsEV6AZL",
        "outputId": "041f8d99-c978-4066-84d1-d6fce1bb7a67"
      },
      "outputs": [
        {
          "ename": "",
          "evalue": "",
          "output_type": "error",
          "traceback": [
            "\u001b[1;31mRunning cells with 'Python 3.12.2' requires the ipykernel package.\n",
            "\u001b[1;31mRun the following command to install 'ipykernel' into the Python environment. \n",
            "\u001b[1;31mCommand: 'c:/Python312/python.exe -m pip install ipykernel -U --user --force-reinstall'"
          ]
        }
      ],
      "source": [
        "df2_renamed"
      ]
    },
    {
      "cell_type": "code",
      "execution_count": null,
      "metadata": {
        "id": "zY7_IoL36AZL",
        "outputId": "17239b5c-11ba-4b88-e008-9c107e66f527"
      },
      "outputs": [
        {
          "ename": "",
          "evalue": "",
          "output_type": "error",
          "traceback": [
            "\u001b[1;31mRunning cells with 'Python 3.12.2' requires the ipykernel package.\n",
            "\u001b[1;31mRun the following command to install 'ipykernel' into the Python environment. \n",
            "\u001b[1;31mCommand: 'c:/Python312/python.exe -m pip install ipykernel -U --user --force-reinstall'"
          ]
        }
      ],
      "source": [
        "# Concatenate df1 and df2\n",
        "df3 = pd.concat([df2_renamed, df1], ignore_index=True)"
      ]
    },
    {
      "cell_type": "code",
      "execution_count": null,
      "metadata": {
        "colab": {
          "base_uri": "https://localhost:8080/",
          "height": 424
        },
        "id": "I6KgWYjCkUe4",
        "outputId": "d1f7e3df-c50c-4e62-de3d-cf655ee77860"
      },
      "outputs": [
        {
          "ename": "",
          "evalue": "",
          "output_type": "error",
          "traceback": [
            "\u001b[1;31mRunning cells with 'Python 3.12.2' requires the ipykernel package.\n",
            "\u001b[1;31mRun the following command to install 'ipykernel' into the Python environment. \n",
            "\u001b[1;31mCommand: 'c:/Python312/python.exe -m pip install ipykernel -U --user --force-reinstall'"
          ]
        }
      ],
      "source": [
        "\n",
        "df3"
      ]
    },
    {
      "cell_type": "code",
      "execution_count": null,
      "metadata": {
        "colab": {
          "base_uri": "https://localhost:8080/",
          "height": 424
        },
        "id": "coTjb3RM4Ez9",
        "outputId": "4b4b3e6e-9ac2-496f-f4c3-d04e47177c4b"
      },
      "outputs": [
        {
          "ename": "",
          "evalue": "",
          "output_type": "error",
          "traceback": [
            "\u001b[1;31mRunning cells with 'Python 3.12.2' requires the ipykernel package.\n",
            "\u001b[1;31mRun the following command to install 'ipykernel' into the Python environment. \n",
            "\u001b[1;31mCommand: 'c:/Python312/python.exe -m pip install ipykernel -U --user --force-reinstall'"
          ]
        }
      ],
      "source": [
        "# drop data without a full valuation\n",
        "df3['year'] = df3['year'].astype(int)\n",
        "df4 = df3.dropna(subset=['fullval'])\n",
        "\n",
        "# df4 = df3.dropna(subset=['staddr'])\n",
        "\n",
        "# Drop rows where FULLVAL is 0\n",
        "df4 = df4[df4['fullval'] != 0]"
      ]
    },
    {
      "cell_type": "code",
      "execution_count": null,
      "metadata": {
        "id": "TMlFjekH6AZM",
        "outputId": "52b8a4a7-4c9a-426a-cd14-de4ccba7ad04"
      },
      "outputs": [
        {
          "ename": "",
          "evalue": "",
          "output_type": "error",
          "traceback": [
            "\u001b[1;31mRunning cells with 'Python 3.12.2' requires the ipykernel package.\n",
            "\u001b[1;31mRun the following command to install 'ipykernel' into the Python environment. \n",
            "\u001b[1;31mCommand: 'c:/Python312/python.exe -m pip install ipykernel -U --user --force-reinstall'"
          ]
        }
      ],
      "source": [
        "# Demonstrate the number fo dropped values\n",
        "\n",
        "# Define dataframes and drop rows where fullVal is 0\n",
        "df3['year'] = df3['year'].astype(int)\n",
        "df4 = df3.dropna(subset=['fullval'])\n",
        "df4 = df4[df4['fullval'] != 0]\n",
        "\n",
        "# Get the number of dropped data points for each column\n",
        "dropped_counts = df3.shape[0] - df4.shape[0]\n",
        "dropped_columns = df3.columns[df3.isnull().any()].tolist()\n",
        "\n",
        "# Plot the information using a bar graph\n",
        "plt.bar(dropped_columns, dropped_counts)\n",
        "plt.xlabel('Columns')\n",
        "plt.ylabel('Number of Dropped Data Points')\n",
        "plt.title('Data Points Dropped per Column (fullval = 0)')\n",
        "plt.xticks(rotation=45)\n",
        "plt.show()\n",
        "\n",
        "'''\n",
        "This code makes a bar chart showing the number of data points dropped\n",
        " from each column after removing rows where fullval equals 0. Shows\n",
        "which columns are affected the most by this data cleaning process\n",
        "'''"
      ]
    },
    {
      "cell_type": "code",
      "execution_count": null,
      "metadata": {
        "colab": {
          "base_uri": "https://localhost:8080/",
          "height": 424
        },
        "id": "M3ItjdrShIvO",
        "outputId": "8336ddd5-1e65-4e97-fd88-b4aaec0560a3"
      },
      "outputs": [
        {
          "ename": "",
          "evalue": "",
          "output_type": "error",
          "traceback": [
            "\u001b[1;31mRunning cells with 'Python 3.12.2' requires the ipykernel package.\n",
            "\u001b[1;31mRun the following command to install 'ipykernel' into the Python environment. \n",
            "\u001b[1;31mCommand: 'c:/Python312/python.exe -m pip install ipykernel -U --user --force-reinstall'"
          ]
        }
      ],
      "source": [
        "df4"
      ]
    },
    {
      "cell_type": "code",
      "execution_count": null,
      "metadata": {
        "id": "46U2AegRyAx_",
        "outputId": "a38dae72-97ed-4bf3-ca38-9bfbc8e8aca6"
      },
      "outputs": [
        {
          "ename": "",
          "evalue": "",
          "output_type": "error",
          "traceback": [
            "\u001b[1;31mRunning cells with 'Python 3.12.2' requires the ipykernel package.\n",
            "\u001b[1;31mRun the following command to install 'ipykernel' into the Python environment. \n",
            "\u001b[1;31mCommand: 'c:/Python312/python.exe -m pip install ipykernel -U --user --force-reinstall'"
          ]
        }
      ],
      "source": [
        "from sklearn.compose import ColumnTransformer\n",
        "from sklearn.preprocessing import OneHotEncoder, StandardScaler\n",
        "from sklearn.pipeline import Pipeline\n",
        "from sklearn.model_selection import train_test_split\n",
        "\n",
        "import pandas as pd\n",
        "from sklearn.model_selection import train_test_split\n",
        "from sklearn.preprocessing import StandardScaler\n",
        "from sklearn.ensemble import RandomForestClassifier\n",
        "from sklearn.linear_model import LogisticRegression\n",
        "from sklearn.svm import SVC\n",
        "from sklearn.metrics import accuracy_score, confusion_matrix"
      ]
    },
    {
      "cell_type": "code",
      "execution_count": null,
      "metadata": {
        "colab": {
          "base_uri": "https://localhost:8080/",
          "height": 70
        },
        "id": "qoJ9TkUOvyGt",
        "outputId": "50326fd0-0a15-4bac-ba68-c03c5cf40b71"
      },
      "outputs": [
        {
          "ename": "",
          "evalue": "",
          "output_type": "error",
          "traceback": [
            "\u001b[1;31mRunning cells with 'Python 3.12.2' requires the ipykernel package.\n",
            "\u001b[1;31mRun the following command to install 'ipykernel' into the Python environment. \n",
            "\u001b[1;31mCommand: 'c:/Python312/python.exe -m pip install ipykernel -U --user --force-reinstall'"
          ]
        }
      ],
      "source": [
        "'''\n",
        "# this to have address in a form comp can understand\n",
        "feature_transformer = ColumnTransformer(transformers=[\n",
        "    ('onehot', OneHotEncoder(handle_unknown='ignore'), ['staddr'])\n",
        "], remainder='passthrough')\n",
        "\n",
        "\n",
        "pipeline = Pipeline([\n",
        "    ('transformer', feature_transformer),\n",
        "    ('scaler', StandardScaler(with_mean=False))  # Set with_mean to False\n",
        "])\n",
        "\n",
        "# Split dataset\n",
        "X = df4[['year', 'staddr']]\n",
        "y = df4['fullval']\n",
        "X_train, X_test, y_train, y_test = train_test_split(X, y, test_size=0.25, random_state=42)\n",
        "\n",
        "# Apply transformations using the pipeline\n",
        "X_train = pipeline.fit_transform(X_train)\n",
        "X_test = pipeline.transform(X_test)\n",
        "'''"
      ]
    },
    {
      "cell_type": "code",
      "execution_count": null,
      "metadata": {
        "id": "JAZaJz4e4HmY",
        "outputId": "dee1106b-7500-4bc1-9853-3ff95999ba14"
      },
      "outputs": [
        {
          "ename": "",
          "evalue": "",
          "output_type": "error",
          "traceback": [
            "\u001b[1;31mRunning cells with 'Python 3.12.2' requires the ipykernel package.\n",
            "\u001b[1;31mRun the following command to install 'ipykernel' into the Python environment. \n",
            "\u001b[1;31mCommand: 'c:/Python312/python.exe -m pip install ipykernel -U --user --force-reinstall'"
          ]
        }
      ],
      "source": [
        "from sklearn.ensemble import RandomForestRegressor\n",
        "from sklearn.linear_model import LinearRegression\n",
        "from sklearn.svm import SVR\n",
        "from sklearn.metrics import mean_squared_error, r2_score"
      ]
    },
    {
      "cell_type": "code",
      "execution_count": null,
      "metadata": {
        "id": "dmrATUHjyx5k",
        "outputId": "efe762fc-bfdf-4209-cb00-11170fea0409"
      },
      "outputs": [
        {
          "ename": "",
          "evalue": "",
          "output_type": "error",
          "traceback": [
            "\u001b[1;31mRunning cells with 'Python 3.12.2' requires the ipykernel package.\n",
            "\u001b[1;31mRun the following command to install 'ipykernel' into the Python environment. \n",
            "\u001b[1;31mCommand: 'c:/Python312/python.exe -m pip install ipykernel -U --user --force-reinstall'"
          ]
        }
      ],
      "source": [
        "# Define the regressors to use\n",
        "regressors = {\n",
        "    'Random Forest Regressor': RandomForestRegressor(n_estimators=100),\n",
        "    'Linear Regression': LinearRegression(),\n",
        "    'Support Vector Regressor': SVR()\n",
        "}"
      ]
    },
    {
      "cell_type": "code",
      "execution_count": null,
      "metadata": {
        "colab": {
          "base_uri": "https://localhost:8080/",
          "height": 424
        },
        "id": "L6761eQ1gsNz",
        "outputId": "a35bd72e-d3dc-4052-b1d0-8e86a8af1946"
      },
      "outputs": [
        {
          "ename": "",
          "evalue": "",
          "output_type": "error",
          "traceback": [
            "\u001b[1;31mRunning cells with 'Python 3.12.2' requires the ipykernel package.\n",
            "\u001b[1;31mRun the following command to install 'ipykernel' into the Python environment. \n",
            "\u001b[1;31mCommand: 'c:/Python312/python.exe -m pip install ipykernel -U --user --force-reinstall'"
          ]
        }
      ],
      "source": [
        "df4"
      ]
    },
    {
      "cell_type": "code",
      "execution_count": null,
      "metadata": {
        "id": "ceJMjQjp436e",
        "outputId": "7b46a7ab-9fee-4741-c305-6ed63199b2e6"
      },
      "outputs": [
        {
          "ename": "",
          "evalue": "",
          "output_type": "error",
          "traceback": [
            "\u001b[1;31mRunning cells with 'Python 3.12.2' requires the ipykernel package.\n",
            "\u001b[1;31mRun the following command to install 'ipykernel' into the Python environment. \n",
            "\u001b[1;31mCommand: 'c:/Python312/python.exe -m pip install ipykernel -U --user --force-reinstall'"
          ]
        }
      ],
      "source": [
        "# Because each borough is likely to exhibit different growth charatesitscs I have deceided to split the dataset by borough\n",
        "# Split the dataframe based on the 'boro' column\n",
        "Manhattandf = df4[df4['boro'] == 1]\n",
        "Bronxdf = df4[df4['boro'] == 2]\n",
        "Brooklyndf = df4[df4['boro'] == 3]\n",
        "Queensdf = df4[df4['boro'] == 4]\n",
        "StatenIslanddf = df4[df4['boro'] == 5]\n"
      ]
    },
    {
      "cell_type": "code",
      "execution_count": null,
      "metadata": {
        "colab": {
          "base_uri": "https://localhost:8080/",
          "height": 424
        },
        "id": "4nIwI_TJyHh5",
        "outputId": "6663bb51-c167-4a4c-d6af-74809a7d7982"
      },
      "outputs": [
        {
          "ename": "",
          "evalue": "",
          "output_type": "error",
          "traceback": [
            "\u001b[1;31mRunning cells with 'Python 3.12.2' requires the ipykernel package.\n",
            "\u001b[1;31mRun the following command to install 'ipykernel' into the Python environment. \n",
            "\u001b[1;31mCommand: 'c:/Python312/python.exe -m pip install ipykernel -U --user --force-reinstall'"
          ]
        }
      ],
      "source": [
        "Manhattandf"
      ]
    },
    {
      "cell_type": "code",
      "execution_count": null,
      "metadata": {
        "colab": {
          "base_uri": "https://localhost:8080/",
          "height": 567
        },
        "id": "DcP_VRE47St7",
        "outputId": "ac3c0973-9379-49f4-8316-d055df2a9974"
      },
      "outputs": [
        {
          "ename": "",
          "evalue": "",
          "output_type": "error",
          "traceback": [
            "\u001b[1;31mRunning cells with 'Python 3.12.2' requires the ipykernel package.\n",
            "\u001b[1;31mRun the following command to install 'ipykernel' into the Python environment. \n",
            "\u001b[1;31mCommand: 'c:/Python312/python.exe -m pip install ipykernel -U --user --force-reinstall'"
          ]
        }
      ],
      "source": [
        "# create a dictionary with the borough names and the number of rows in each dataframe\n",
        "borough_counts = {\n",
        "    'Manhattan': len(Manhattandf),\n",
        "    'Bronx': len(Bronxdf),\n",
        "    'Brooklyn': len(Brooklyndf),\n",
        "    'Queens': len(Queensdf),\n",
        "    'Staten Island': len(StatenIslanddf)\n",
        "}\n",
        "\n",
        "# plot this information using a bar graph\n",
        "plt.bar(borough_counts.keys(), borough_counts.values())\n",
        "plt.xlabel('Borough')\n",
        "plt.ylabel('Number of Data Points')\n",
        "plt.title('Data Points per Borough')\n",
        "plt.xticks(rotation=45)\n",
        "plt.show()\n",
        "\n",
        "\n",
        "# date ranges in each dataframe\n",
        "date_ranges = {\n",
        "    'Manhattan': (Manhattandf['year'].min(), Manhattandf['year'].max()),\n",
        "    'Bronx': (Bronxdf['year'].min(), Bronxdf['year'].max()),\n",
        "    'Brooklyn': (Brooklyndf['year'].min(), Brooklyndf['year'].max()),\n",
        "    'Queens': (Queensdf['year'].min(), Queensdf['year'].max()),\n",
        "    'Staten Island': (StatenIslanddf['year'].min(), StatenIslanddf['year'].max())\n",
        "}\n",
        "\n",
        "print(\"\\n\", date_ranges)"
      ]
    },
    {
      "cell_type": "code",
      "execution_count": null,
      "metadata": {
        "colab": {
          "base_uri": "https://localhost:8080/",
          "height": 424
        },
        "id": "BMu6STSB8hzk",
        "outputId": "6846abee-fffc-4b81-8bdf-89e3b65a4833"
      },
      "outputs": [
        {
          "ename": "",
          "evalue": "",
          "output_type": "error",
          "traceback": [
            "\u001b[1;31mRunning cells with 'Python 3.12.2' requires the ipykernel package.\n",
            "\u001b[1;31mRun the following command to install 'ipykernel' into the Python environment. \n",
            "\u001b[1;31mCommand: 'c:/Python312/python.exe -m pip install ipykernel -U --user --force-reinstall'"
          ]
        }
      ],
      "source": [
        "Manhattandf"
      ]
    },
    {
      "cell_type": "code",
      "execution_count": null,
      "metadata": {
        "colab": {
          "base_uri": "https://localhost:8080/",
          "height": 424
        },
        "id": "KtFSAiTH8pSF",
        "outputId": "19ca7a54-c015-415a-d17d-e2e36a794e27"
      },
      "outputs": [
        {
          "ename": "",
          "evalue": "",
          "output_type": "error",
          "traceback": [
            "\u001b[1;31mRunning cells with 'Python 3.12.2' requires the ipykernel package.\n",
            "\u001b[1;31mRun the following command to install 'ipykernel' into the Python environment. \n",
            "\u001b[1;31mCommand: 'c:/Python312/python.exe -m pip install ipykernel -U --user --force-reinstall'"
          ]
        }
      ],
      "source": [
        "Brooklyndf"
      ]
    },
    {
      "cell_type": "code",
      "execution_count": null,
      "metadata": {
        "colab": {
          "base_uri": "https://localhost:8080/"
        },
        "id": "Z5_uEDHdFEEU",
        "outputId": "efd258d5-d869-493f-c3b9-1f99c6926a3b"
      },
      "outputs": [
        {
          "ename": "",
          "evalue": "",
          "output_type": "error",
          "traceback": [
            "\u001b[1;31mRunning cells with 'Python 3.12.2' requires the ipykernel package.\n",
            "\u001b[1;31mRun the following command to install 'ipykernel' into the Python environment. \n",
            "\u001b[1;31mCommand: 'c:/Python312/python.exe -m pip install ipykernel -U --user --force-reinstall'"
          ]
        }
      ],
      "source": [
        "# temp\n",
        "\n",
        "from sklearn.compose import ColumnTransformer\n",
        "from sklearn.impute import SimpleImputer\n",
        "from sklearn.pipeline import Pipeline\n",
        "from sklearn.preprocessing import OneHotEncoder, StandardScaler\n",
        "from sklearn.model_selection import train_test_split\n",
        "from sklearn.metrics import mean_squared_error, r2_score\n",
        "from sklearn.linear_model import LinearRegression\n",
        "from sklearn.ensemble import RandomForestRegressor\n",
        "from xgboost import XGBRegressor\n",
        "\n",
        "\n",
        "# Feature Selection and Engineering\n",
        "df_combined = Manhattandf\n",
        "\n",
        "# Removed staddr as we already have boro and block numbers so being further specific will serve little purpose\n",
        "# features_to_use = ['boro', 'block', 'lot', 'taxclass', 'bldgcl', 'staddr', 'ltfront', 'ltdepth', 'stories']\n",
        "features_to_use = ['block',  'taxclass', 'bldgcl',  'ltfront', 'ltdepth', 'stories', 'year']\n",
        "target = 'fullval'\n",
        "\n",
        "# Data Cleaning\n",
        "df_combined.dropna(subset=[target], inplace=True)\n",
        "\n",
        "# Convert categorical features to string\n",
        "# categorical_features = ['boro', 'taxclass', 'bldgcl', 'staddr']  # Assuming 'staddr' is categorical\n",
        "categorical_features = ['taxclass', 'bldgcl']\n",
        "for col in categorical_features:\n",
        "    df_combined[col] = df_combined[col].astype(str)\n",
        "\n",
        "# Categorize features\n",
        "numerical_features = [f for f in features_to_use if f not in categorical_features]\n",
        "\n",
        "# Preprocessor for handling both categorical and numerical features\n",
        "preprocessor = ColumnTransformer(\n",
        "    transformers=[\n",
        "        ('num', Pipeline([\n",
        "            ('imputer', SimpleImputer(strategy='mean')),  # or 'median'\n",
        "            ('scaler', StandardScaler())\n",
        "        ]), numerical_features),\n",
        "        ('cat', Pipeline([\n",
        "            ('imputer', SimpleImputer(strategy='constant', fill_value='missing')),\n",
        "            ('encoder', OneHotEncoder(handle_unknown='ignore'))\n",
        "        ]), categorical_features)\n",
        "    ]\n",
        ")\n",
        "'''\n",
        "# Linear Regression Model\n",
        "# Pipeline with model\n",
        "# Yielded .44 with 120,000 Values\n",
        "# Yielded .22 with 240,000 Values\n",
        "pipeline = Pipeline([\n",
        "    ('preprocessor', preprocessor),\n",
        "    ('model', LinearRegression())\n",
        "])\n",
        "'''\n",
        "'''\n",
        "# This model takes too long to load\n",
        "# Random Forest Regressor Model\n",
        "pipeline = Pipeline([\n",
        "    ('preprocessor', preprocessor),\n",
        "    ('model', RandomForestRegressor(n_estimators=100, random_state=42))\n",
        "])\n",
        "'''\n",
        "\n",
        "\n",
        "pipeline = Pipeline([\n",
        "    ('preprocessor', preprocessor),\n",
        "    ('model', XGBRegressor(objective='reg:squarederror', n_estimators=100, learning_rate=0.3, random_state=42))\n",
        "])\n",
        "\n",
        "\n",
        "# Model preparation\n",
        "X = df_combined[features_to_use]\n",
        "y = df_combined[target]\n",
        "X_train, X_test, y_train, y_test = train_test_split(X, y, test_size=0.3, random_state=42)\n",
        "\n",
        "# Train the model\n",
        "pipeline.fit(X_train, y_train)\n",
        "\n",
        "# Predictions and Evaluation\n",
        "y_pred = pipeline.predict(X_test)\n",
        "mse = mean_squared_error(y_test, y_pred)\n",
        "r2 = r2_score(y_test, y_pred)\n",
        "\n",
        "print(f'Mean Squared Error: {mse}')\n",
        "print(f'R-squared: {r2}')\n"
      ]
    },
    {
      "cell_type": "code",
      "execution_count": null,
      "metadata": {
        "colab": {
          "base_uri": "https://localhost:8080/",
          "height": 300
        },
        "id": "UUFlHrzE95r8",
        "outputId": "2016278a-6f7f-48f2-b668-f4374af94b4b"
      },
      "outputs": [
        {
          "ename": "",
          "evalue": "",
          "output_type": "error",
          "traceback": [
            "\u001b[1;31mRunning cells with 'Python 3.12.2' requires the ipykernel package.\n",
            "\u001b[1;31mRun the following command to install 'ipykernel' into the Python environment. \n",
            "\u001b[1;31mCommand: 'c:/Python312/python.exe -m pip install ipykernel -U --user --force-reinstall'"
          ]
        }
      ],
      "source": [
        "# Trying to figure out what qualities is leading to Brooklyn having a far lower accuracy score than manhattan\n",
        "# So far my current explanation is that Brooklyn buildings are mostly residential and the accuracy to predict\n",
        "#the prices in very differing areas makes it difficult for the model to predict accurately the value of\n",
        "\n",
        "metrics = {\n",
        "    'Metric': ['Mean Full Value', 'Median Full Value', 'Mean AV Land', 'Median AV Land', 'Mean AV Total', 'Median AV Total', 'Mean Stories', 'Median Stories'],\n",
        "    'Manhattan': [\n",
        "        Manhattandf['fullval'].mean(),\n",
        "        Manhattandf['fullval'].median(),\n",
        "        Manhattandf['avland'].mean(),\n",
        "        Manhattandf['avland'].median(),\n",
        "        Manhattandf['avtot'].mean(),\n",
        "        Manhattandf['avtot'].median(),\n",
        "        Manhattandf['stories'].mean(),\n",
        "        Manhattandf['stories'].median(),\n",
        "    ],\n",
        "    'Brooklyn': [\n",
        "        Brooklyndf['fullval'].mean(),\n",
        "        Brooklyndf['fullval'].median(),\n",
        "        Brooklyndf['avland'].mean(),\n",
        "        Brooklyndf['avland'].median(),\n",
        "        Brooklyndf['avtot'].mean(),\n",
        "        Brooklyndf['avtot'].median(),\n",
        "        Brooklyndf['stories'].mean(),\n",
        "        Brooklyndf['stories'].median(),\n",
        "    ]\n",
        "}\n",
        "\n",
        "# Converting the metrics to a DataFrame for display\n",
        "metrics_df = pd.DataFrame(metrics)\n",
        "metrics_df"
      ]
    },
    {
      "cell_type": "code",
      "execution_count": null,
      "metadata": {
        "colab": {
          "base_uri": "https://localhost:8080/"
        },
        "id": "dx2r5Qev-49Q",
        "outputId": "7677a597-002e-4392-8351-fc33991ca5b1"
      },
      "outputs": [
        {
          "ename": "",
          "evalue": "",
          "output_type": "error",
          "traceback": [
            "\u001b[1;31mRunning cells with 'Python 3.12.2' requires the ipykernel package.\n",
            "\u001b[1;31mRun the following command to install 'ipykernel' into the Python environment. \n",
            "\u001b[1;31mCommand: 'c:/Python312/python.exe -m pip install ipykernel -U --user --force-reinstall'"
          ]
        }
      ],
      "source": [
        "# Attempting to remove any extreme outliers from the dataset\n",
        "\n",
        "def remove_outliers(df, column):\n",
        "    mean_val = df[column].mean()\n",
        "    # Setting the deviation limit to 60% of the mean\n",
        "    deviation_limit = 0.6 * mean_val\n",
        "    lower_bound = mean_val - deviation_limit\n",
        "    upper_bound = mean_val + deviation_limit\n",
        "    # Filtering the DataFrame to only include values within the specified range\n",
        "    return df[(df[column] >= lower_bound) & (df[column] <= upper_bound)]\n",
        "\n",
        "# Applying the outlier removal function to the relevant columns in the Manhattan and Brooklyn dataframes\n",
        "columns_to_check = ['fullval', 'avland', 'avtot', 'stories']\n",
        "\n",
        "Brooklyndf_cleaned = Brooklyndf.copy()\n",
        "\n",
        "for column in columns_to_check:\n",
        "    Brooklyndf_cleaned = remove_outliers(Brooklyndf_cleaned, column)\n",
        "\n",
        "# Display the size of the dataframes before and after outlier removal\n",
        "original_sizes =  len(Brooklyndf)\n",
        "cleaned_sizes = len(Brooklyndf_cleaned)\n",
        "\n",
        "original_sizes, cleaned_sizes"
      ]
    },
    {
      "cell_type": "code",
      "execution_count": null,
      "metadata": {
        "colab": {
          "base_uri": "https://localhost:8080/",
          "height": 300
        },
        "id": "WgSs90Ixvs3s",
        "outputId": "42bc346b-9bb1-4f67-b005-4104cbd03cfd"
      },
      "outputs": [
        {
          "ename": "",
          "evalue": "",
          "output_type": "error",
          "traceback": [
            "\u001b[1;31mRunning cells with 'Python 3.12.2' requires the ipykernel package.\n",
            "\u001b[1;31mRun the following command to install 'ipykernel' into the Python environment. \n",
            "\u001b[1;31mCommand: 'c:/Python312/python.exe -m pip install ipykernel -U --user --force-reinstall'"
          ]
        }
      ],
      "source": [
        "metrics = {\n",
        "    'Metric': ['Mean Full Value', 'Median Full Value', 'Mean AV Land', 'Median AV Land', 'Mean AV Total', 'Median AV Total', 'Mean Stories', 'Median Stories'],\n",
        "    'Brooklyn': [\n",
        "        Brooklyndf_cleaned['fullval'].mean(),\n",
        "        Brooklyndf_cleaned['fullval'].median(),\n",
        "        Brooklyndf_cleaned['avland'].mean(),\n",
        "        Brooklyndf_cleaned['avland'].median(),\n",
        "        Brooklyndf_cleaned['avtot'].mean(),\n",
        "        Brooklyndf_cleaned['avtot'].median(),\n",
        "        Brooklyndf_cleaned['stories'].mean(),\n",
        "        Brooklyndf_cleaned['stories'].median(),\n",
        "    ]\n",
        "}\n",
        "\n",
        "# Converting the metrics to a DataFrame for display\n",
        "metrics_df = pd.DataFrame(metrics)\n",
        "metrics_df"
      ]
    },
    {
      "cell_type": "code",
      "execution_count": null,
      "metadata": {
        "id": "d1jtD6uO6AZO",
        "outputId": "23257b8f-f27d-492b-d9ac-e4743ab0bd91"
      },
      "outputs": [
        {
          "ename": "",
          "evalue": "",
          "output_type": "error",
          "traceback": [
            "\u001b[1;31mRunning cells with 'Python 3.12.2' requires the ipykernel package.\n",
            "\u001b[1;31mRun the following command to install 'ipykernel' into the Python environment. \n",
            "\u001b[1;31mCommand: 'c:/Python312/python.exe -m pip install ipykernel -U --user --force-reinstall'"
          ]
        }
      ],
      "source": [
        "import pandas as pd\n",
        "import numpy as np\n",
        "import matplotlib.pyplot as plt\n",
        "\n",
        "df = Manhattandf  # Ensure that this DataFrame is defined and loaded correctly\n",
        "\n",
        "block_input = 16\n",
        "year_input = 2017\n",
        "\n",
        "# Filter the DataFrame for the specified block and year\n",
        "filtered_df = df[(df['block'] == block_input) & (df['year'] == year_input)]\n",
        "\n",
        "prices = filtered_df['fullval'].dropna()  # Drop NaN values\n",
        "\n",
        "# Plotting the actual data\n",
        "plt.figure(figsize=(10, 6))\n",
        "plt.hist(prices, bins=30, color='blue', alpha=0.7)  # Bins can be adjusted\n",
        "plt.title(f'Price Distribution of Buildings in Block {block_input} for the Year {year_input}')\n",
        "plt.xlabel('Price')\n",
        "plt.ylabel('Frequency')\n",
        "plt.grid(True)\n",
        "plt.show()\n"
      ]
    },
    {
      "cell_type": "code",
      "execution_count": null,
      "metadata": {
        "colab": {
          "base_uri": "https://localhost:8080/",
          "height": 616
        },
        "id": "2lHJn-B505IE",
        "outputId": "db14c7e0-a59d-4fb6-f637-fdba05cb653a"
      },
      "outputs": [
        {
          "ename": "",
          "evalue": "",
          "output_type": "error",
          "traceback": [
            "\u001b[1;31mRunning cells with 'Python 3.12.2' requires the ipykernel package.\n",
            "\u001b[1;31mRun the following command to install 'ipykernel' into the Python environment. \n",
            "\u001b[1;31mCommand: 'c:/Python312/python.exe -m pip install ipykernel -U --user --force-reinstall'"
          ]
        }
      ],
      "source": [
        "# Used this to create a bell curve and discovered that there are outliers in price that are messing with certain predictions resulting in negative values\n",
        "# Negative values originate from the fact that there is data supporting a very low unrealistic price for a given year in a block that messes the prediction for other buildings in the same block\n",
        "# This was used for testing, this has no effect on the Manhattandf and the df referred here isnt used later\n",
        "# Information gathered here was used for other code\n",
        "\n",
        "import pandas as pd\n",
        "import numpy as np\n",
        "import matplotlib.pyplot as plt\n",
        "from scipy.stats import norm\n",
        "\n",
        "df = Manhattandf\n",
        "\n",
        "block_input = 16\n",
        "year_input = 2017\n",
        "\n",
        "# Filter the DataFrame for the specified block and year\n",
        "filtered_df = df[(df['block'] == block_input) & (df['year'] == year_input)]\n",
        "\n",
        "\n",
        "prices = filtered_df['fullval'].dropna()  # Drop NaN values\n",
        "\n",
        "mean = prices.mean()\n",
        "std = prices.std()\n",
        "\n",
        "# Generate a range of price values for the bell curve\n",
        "price_range = np.linspace(prices.min(), prices.max(), 100)\n",
        "\n",
        "bell_curve = norm.pdf(price_range, mean, std)\n",
        "\n",
        "print(mean)\n",
        "print(prices.min())\n",
        "print(prices.max())\n",
        "\n",
        "plt.figure(figsize=(10, 6))\n",
        "plt.plot(price_range, bell_curve, color='blue')\n",
        "plt.title(f'Price Distribution of Buildings in Block {block_input} for the Year {year_input}')\n",
        "plt.xlabel('Price')\n",
        "plt.ylabel('Density')\n",
        "plt.grid(True)\n",
        "plt.show()\n"
      ]
    },
    {
      "cell_type": "code",
      "execution_count": null,
      "metadata": {
        "colab": {
          "base_uri": "https://localhost:8080/"
        },
        "id": "lrmPONdYE2_5",
        "outputId": "c6e4a024-bdef-4e9c-abf7-d422c2a5597c"
      },
      "outputs": [
        {
          "ename": "",
          "evalue": "",
          "output_type": "error",
          "traceback": [
            "\u001b[1;31mRunning cells with 'Python 3.12.2' requires the ipykernel package.\n",
            "\u001b[1;31mRun the following command to install 'ipykernel' into the Python environment. \n",
            "\u001b[1;31mCommand: 'c:/Python312/python.exe -m pip install ipykernel -U --user --force-reinstall'"
          ]
        }
      ],
      "source": [
        "#temp\n",
        "\n",
        "\n",
        "from sklearn.compose import ColumnTransformer\n",
        "from sklearn.impute import SimpleImputer\n",
        "from sklearn.pipeline import Pipeline\n",
        "from sklearn.preprocessing import OneHotEncoder, StandardScaler\n",
        "from sklearn.model_selection import train_test_split\n",
        "from sklearn.metrics import mean_squared_error, r2_score\n",
        "from sklearn.linear_model import LinearRegression\n",
        "from sklearn.ensemble import RandomForestRegressor\n",
        "from xgboost import XGBRegressor\n",
        "\n",
        "\n",
        "# Feature Selection and Engineering\n",
        "df_combined = Manhattandf\n",
        "\n",
        "# Removed staddr as we already have boro and block numbers so being further specific will serve little purpose\n",
        "# features_to_use = ['boro', 'block', 'lot', 'taxclass', 'bldgcl', 'staddr', 'ltfront', 'ltdepth', 'stories']\n",
        "features_to_use = ['block',  'taxclass', 'bldgcl',  'ltfront', 'ltdepth', 'stories', 'year']\n",
        "target = 'fullval'\n",
        "\n",
        "# Data Cleaning\n",
        "df_combined.dropna(subset=[target], inplace=True)\n",
        "\n",
        "# Convert categorical features to string\n",
        "# categorical_features = ['boro', 'taxclass', 'bldgcl', 'staddr']  # Assuming 'staddr' is categorical\n",
        "categorical_features = ['taxclass', 'bldgcl']\n",
        "for col in categorical_features:\n",
        "    df_combined[col] = df_combined[col].astype(str)\n",
        "\n",
        "# Categorize features\n",
        "numerical_features = [f for f in features_to_use if f not in categorical_features]\n",
        "\n",
        "# Preprocessor for handling both categorical and numerical features\n",
        "preprocessor = ColumnTransformer(\n",
        "    transformers=[\n",
        "        ('num', Pipeline([\n",
        "            ('imputer', SimpleImputer(strategy='mean')),  # or 'median'\n",
        "            ('scaler', StandardScaler())\n",
        "        ]), numerical_features),\n",
        "        ('cat', Pipeline([\n",
        "            ('imputer', SimpleImputer(strategy='constant', fill_value='missing')),\n",
        "            ('encoder', OneHotEncoder(handle_unknown='ignore'))\n",
        "        ]), categorical_features)\n",
        "    ]\n",
        ")\n",
        "'''\n",
        "# Linear Regression Model\n",
        "# Pipeline with model\n",
        "# Yielded .44 with 120,000 Values\n",
        "# Yielded .22 with 240,000 Values\n",
        "pipeline = Pipeline([\n",
        "    ('preprocessor', preprocessor),\n",
        "    ('model', LinearRegression())\n",
        "])\n",
        "'''\n",
        "'''\n",
        "# This model takes too long to load\n",
        "# Random Forest Regressor Model\n",
        "pipeline = Pipeline([\n",
        "    ('preprocessor', preprocessor),\n",
        "    ('model', RandomForestRegressor(n_estimators=100, random_state=42))\n",
        "])\n",
        "'''\n",
        "\n",
        "\n",
        "pipeline = Pipeline([\n",
        "    ('preprocessor', preprocessor),\n",
        "    ('model', XGBRegressor(objective='reg:squarederror', n_estimators=100, learning_rate=0.3, random_state=42))\n",
        "])\n",
        "\n",
        "\n",
        "# Model preparation\n",
        "X = df_combined[features_to_use]\n",
        "y = df_combined[target]\n",
        "X_train, X_test, y_train, y_test = train_test_split(X, y, test_size=0.3, random_state=42)\n",
        "\n",
        "# Train the model\n",
        "pipeline.fit(X_train, y_train)\n",
        "\n",
        "# Predictions and Evaluation\n",
        "y_pred = pipeline.predict(X_test)\n",
        "mse = mean_squared_error(y_test, y_pred)\n",
        "r2 = r2_score(y_test, y_pred)\n",
        "\n",
        "print(f'Mean Squared Error: {mse}')\n",
        "print(f'R-squared: {r2}')\n"
      ]
    },
    {
      "cell_type": "code",
      "execution_count": null,
      "metadata": {
        "colab": {
          "base_uri": "https://localhost:8080/",
          "height": 424
        },
        "id": "m3shi1MYg2id",
        "outputId": "270c22cd-d8d0-41cd-8696-1a3e63aa5ed1"
      },
      "outputs": [
        {
          "ename": "",
          "evalue": "",
          "output_type": "error",
          "traceback": [
            "\u001b[1;31mRunning cells with 'Python 3.12.2' requires the ipykernel package.\n",
            "\u001b[1;31mRun the following command to install 'ipykernel' into the Python environment. \n",
            "\u001b[1;31mCommand: 'c:/Python312/python.exe -m pip install ipykernel -U --user --force-reinstall'"
          ]
        }
      ],
      "source": [
        "Manhattandf"
      ]
    },
    {
      "cell_type": "code",
      "execution_count": null,
      "metadata": {
        "id": "Ax3zLBLXgZrx",
        "outputId": "b3f633ce-1020-4622-c850-aba50689565d"
      },
      "outputs": [
        {
          "ename": "",
          "evalue": "",
          "output_type": "error",
          "traceback": [
            "\u001b[1;31mRunning cells with 'Python 3.12.2' requires the ipykernel package.\n",
            "\u001b[1;31mRun the following command to install 'ipykernel' into the Python environment. \n",
            "\u001b[1;31mCommand: 'c:/Python312/python.exe -m pip install ipykernel -U --user --force-reinstall'"
          ]
        }
      ],
      "source": [
        "# The remove_outliers_by_year_block was throwing an error saying year is both a index and a column\n",
        "# So here i am basically using .reset_index but it wasn't working so i am using this alt method\n",
        "\n",
        "Manhattandf = pd.DataFrame(Manhattandf.to_dict(orient='list'))"
      ]
    },
    {
      "cell_type": "code",
      "execution_count": null,
      "metadata": {
        "id": "kkNTw8RMV6CI",
        "outputId": "bf8f260b-3a22-43ce-97f2-478a4a80e3a0"
      },
      "outputs": [
        {
          "ename": "",
          "evalue": "",
          "output_type": "error",
          "traceback": [
            "\u001b[1;31mRunning cells with 'Python 3.12.2' requires the ipykernel package.\n",
            "\u001b[1;31mRun the following command to install 'ipykernel' into the Python environment. \n",
            "\u001b[1;31mCommand: 'c:/Python312/python.exe -m pip install ipykernel -U --user --force-reinstall'"
          ]
        }
      ],
      "source": [
        "def remove_outliers_by_year_block(dataframe):\n",
        "    # Group the DataFrame by 'year' and 'block'\n",
        "    grouped = dataframe.groupby(['year', 'block'])\n",
        "\n",
        "    # Function to remove outliers from each group\n",
        "    def remove_outliers(group):\n",
        "        q1 = group['fullval'].quantile(0.25)\n",
        "        q3 = group['fullval'].quantile(0.75)\n",
        "        iqr = q3 - q1\n",
        "        lower_bound = q1 - 1.5 * iqr\n",
        "        upper_bound = q3 + 1.5 * iqr\n",
        "        return group[(group['fullval'] >= lower_bound) & (group['fullval'] <= upper_bound)]\n",
        "\n",
        "    # Apply the function to each group and reset the index\n",
        "    return grouped.apply(remove_outliers)\n",
        "\n",
        "# Apply the outlier removal function to the entire Manhattan df\n",
        "Manhattandf = remove_outliers_by_year_block(Manhattandf)\n"
      ]
    },
    {
      "cell_type": "code",
      "execution_count": null,
      "metadata": {
        "colab": {
          "base_uri": "https://localhost:8080/",
          "height": 455
        },
        "id": "Dus8mbuMUu-o",
        "outputId": "93ce14b8-dfa9-4d21-c125-e3d1d13c2ad0"
      },
      "outputs": [
        {
          "ename": "",
          "evalue": "",
          "output_type": "error",
          "traceback": [
            "\u001b[1;31mRunning cells with 'Python 3.12.2' requires the ipykernel package.\n",
            "\u001b[1;31mRun the following command to install 'ipykernel' into the Python environment. \n",
            "\u001b[1;31mCommand: 'c:/Python312/python.exe -m pip install ipykernel -U --user --force-reinstall'"
          ]
        }
      ],
      "source": [
        "Manhattandf"
      ]
    },
    {
      "cell_type": "code",
      "execution_count": null,
      "metadata": {
        "colab": {
          "base_uri": "https://localhost:8080/",
          "height": 599
        },
        "id": "HJZMrga93T6N",
        "outputId": "6fa46dde-ffa3-4801-8a78-53a241c1b7f6"
      },
      "outputs": [
        {
          "ename": "",
          "evalue": "",
          "output_type": "error",
          "traceback": [
            "\u001b[1;31mRunning cells with 'Python 3.12.2' requires the ipykernel package.\n",
            "\u001b[1;31mRun the following command to install 'ipykernel' into the Python environment. \n",
            "\u001b[1;31mCommand: 'c:/Python312/python.exe -m pip install ipykernel -U --user --force-reinstall'"
          ]
        }
      ],
      "source": [
        "# Used this to create a bell curve and discovered that there are outliers in price that are messing with certain predictions resulting in negative values\n",
        "# Negative values originate from the fact that there is data supporting a very low unrealistic price for a given year in a block that messes the prediction for other buildings in the same block\n",
        "# This was used for testing, this has no effect on the Manhattandf and the df referred here isnt used later\n",
        "# Information gathered here was used for other code\n",
        "\n",
        "import pandas as pd\n",
        "import numpy as np\n",
        "import matplotlib.pyplot as plt\n",
        "from scipy.stats import norm\n",
        "\n",
        "df = Manhattandf\n",
        "\n",
        "block_input = 16\n",
        "year_input = 2017\n",
        "\n",
        "# Filter the DataFrame for the specified block and year\n",
        "filtered_df = df[(df['block'] == block_input) & (df['year'] == year_input)]\n",
        "\n",
        "\n",
        "prices = filtered_df['fullval'].dropna()  # Drop NaN values\n",
        "\n",
        "mean = prices.mean()\n",
        "std = prices.std()\n",
        "# min = prices.min()\n",
        "\n",
        "# Generate a range of price values for the bell curve\n",
        "price_range = np.linspace(prices.min(), prices.max(), 100)\n",
        "\n",
        "bell_curve = norm.pdf(price_range, mean, std)\n",
        "\n",
        "print(mean)\n",
        "print(prices.min())\n",
        "\n",
        "plt.figure(figsize=(10, 6))\n",
        "plt.plot(price_range, bell_curve, color='blue')\n",
        "plt.title(f'Price Distribution of Buildings in Block {block_input} for the Year {year_input}')\n",
        "plt.xlabel('Price')\n",
        "plt.ylabel('Density')\n",
        "plt.grid(True)\n",
        "plt.show()\n"
      ]
    },
    {
      "cell_type": "code",
      "execution_count": null,
      "metadata": {
        "id": "zT9_brhv6AZQ",
        "outputId": "ffcf40be-5c4e-456f-ed43-998b34e65a04"
      },
      "outputs": [
        {
          "ename": "",
          "evalue": "",
          "output_type": "error",
          "traceback": [
            "\u001b[1;31mRunning cells with 'Python 3.12.2' requires the ipykernel package.\n",
            "\u001b[1;31mRun the following command to install 'ipykernel' into the Python environment. \n",
            "\u001b[1;31mCommand: 'c:/Python312/python.exe -m pip install ipykernel -U --user --force-reinstall'"
          ]
        }
      ],
      "source": [
        "import pandas as pd\n",
        "import numpy as np\n",
        "import matplotlib.pyplot as plt\n",
        "\n",
        "df = Manhattandf  # Ensure that this DataFrame is defined and loaded correctly\n",
        "\n",
        "block_input = 16\n",
        "year_input = 2017\n",
        "\n",
        "# Filter the DataFrame for the specified block and year\n",
        "filtered_df = df[(df['block'] == block_input) & (df['year'] == year_input)]\n",
        "\n",
        "prices = filtered_df['fullval'].dropna()  # Drop NaN values\n",
        "\n",
        "# Plotting the actual data\n",
        "plt.figure(figsize=(10, 6))\n",
        "plt.hist(prices, bins=30, color='blue', alpha=0.7)  # Bins can be adjusted\n",
        "plt.title(f'Price Distribution of Buildings in Block {block_input} for the Year {year_input}')\n",
        "plt.xlabel('Price')\n",
        "plt.ylabel('Frequency')\n",
        "plt.grid(True)\n",
        "plt.show()\n"
      ]
    },
    {
      "cell_type": "code",
      "execution_count": null,
      "metadata": {
        "id": "tEsMS6sp6AZR",
        "outputId": "97e0ea22-db1f-47e4-e3e9-6ee261ce4dc9"
      },
      "outputs": [
        {
          "ename": "",
          "evalue": "",
          "output_type": "error",
          "traceback": [
            "\u001b[1;31mRunning cells with 'Python 3.12.2' requires the ipykernel package.\n",
            "\u001b[1;31mRun the following command to install 'ipykernel' into the Python environment. \n",
            "\u001b[1;31mCommand: 'c:/Python312/python.exe -m pip install ipykernel -U --user --force-reinstall'"
          ]
        }
      ],
      "source": [
        "import pandas as pd\n",
        "import matplotlib.pyplot as plt\n",
        "\n",
        "# Assuming 'Manhattandf' is your DataFrame containing all the data\n",
        "df = Manhattandf  # Ensure this DataFrame is defined and loaded correctly\n",
        "\n",
        "# Considering only the 'fullval' column and dropping NaN values\n",
        "prices = df['fullval'].dropna()\n",
        "\n",
        "# Plotting the histogram for all data points with extended axes\n",
        "plt.figure(figsize=(12, 8))\n",
        "plt.hist(prices, bins=30, color='blue', alpha=0.7, log=True)  # Log scale for better visibility\n",
        "\n",
        "# Set the x-axis to a log scale\n",
        "plt.xscale('log')\n",
        "\n",
        "# Expand the horizontal axis to show more detail\n",
        "plt.xlim([prices.min(), prices.max()])  # Set the limits to the min and max of the data\n",
        "\n",
        "# Expand the vertical axis to show more detail\n",
        "plt.ylim([1, prices.count()])  # Set the limits from 1 to the count of price entries\n",
        "\n",
        "plt.title('Expanded Price Distribution Across All Data')\n",
        "plt.xlabel('Price (log scale)')\n",
        "plt.ylabel('Frequency (log scale)')\n",
        "plt.grid(True)\n",
        "plt.show()\n"
      ]
    },
    {
      "cell_type": "code",
      "execution_count": null,
      "metadata": {
        "colab": {
          "base_uri": "https://localhost:8080/"
        },
        "id": "qeRHRR-jfu-M",
        "outputId": "b06a43cf-d526-4a29-c383-d62007c5b6f4"
      },
      "outputs": [
        {
          "ename": "",
          "evalue": "",
          "output_type": "error",
          "traceback": [
            "\u001b[1;31mRunning cells with 'Python 3.12.2' requires the ipykernel package.\n",
            "\u001b[1;31mRun the following command to install 'ipykernel' into the Python environment. \n",
            "\u001b[1;31mCommand: 'c:/Python312/python.exe -m pip install ipykernel -U --user --force-reinstall'"
          ]
        }
      ],
      "source": [
        "from sklearn.compose import ColumnTransformer\n",
        "from sklearn.impute import SimpleImputer\n",
        "from sklearn.pipeline import Pipeline\n",
        "from sklearn.preprocessing import OneHotEncoder, StandardScaler\n",
        "from sklearn.model_selection import train_test_split\n",
        "from sklearn.metrics import mean_squared_error, r2_score\n",
        "from sklearn.linear_model import LinearRegression\n",
        "from sklearn.ensemble import RandomForestRegressor\n",
        "from xgboost import XGBRegressor\n",
        "\n",
        "\n",
        "# Feature Selection and Engineering\n",
        "df_combined = Manhattandf\n",
        "\n",
        "# Removed staddr as we already have boro and block numbers so being further specific will serve little purpose\n",
        "# features_to_use = ['boro', 'block', 'lot', 'taxclass', 'bldgcl', 'staddr', 'ltfront', 'ltdepth', 'stories']\n",
        "features_to_use = ['block',  'taxclass', 'bldgcl',  'ltfront', 'ltdepth', 'stories', 'year']\n",
        "target = 'fullval'\n",
        "\n",
        "# Data Cleaning\n",
        "df_combined.dropna(subset=[target], inplace=True)\n",
        "\n",
        "# Convert categorical features to string\n",
        "# categorical_features = ['boro', 'taxclass', 'bldgcl', 'staddr']  # Assuming 'staddr' is categorical\n",
        "categorical_features = ['taxclass', 'bldgcl']\n",
        "for col in categorical_features:\n",
        "    df_combined[col] = df_combined[col].astype(str)\n",
        "\n",
        "# Categorize features\n",
        "numerical_features = [f for f in features_to_use if f not in categorical_features]\n",
        "\n",
        "# Preprocessor for handling both categorical and numerical features\n",
        "preprocessor = ColumnTransformer(\n",
        "    transformers=[\n",
        "        ('num', Pipeline([\n",
        "            ('imputer', SimpleImputer(strategy='mean')),  # or 'median'\n",
        "            ('scaler', StandardScaler())\n",
        "        ]), numerical_features),\n",
        "        ('cat', Pipeline([\n",
        "            ('imputer', SimpleImputer(strategy='constant', fill_value='missing')),\n",
        "            ('encoder', OneHotEncoder(handle_unknown='ignore'))\n",
        "        ]), categorical_features)\n",
        "    ]\n",
        ")\n",
        "'''\n",
        "# Linear Regression Model\n",
        "# Pipeline with model\n",
        "# Yielded .44 with 120,000 Values\n",
        "# Yielded .22 with 240,000 Values\n",
        "pipeline = Pipeline([\n",
        "    ('preprocessor', preprocessor),\n",
        "    ('model', LinearRegression())\n",
        "])\n",
        "'''\n",
        "'''\n",
        "# This model takes too long to load\n",
        "# Random Forest Regressor Model\n",
        "pipeline = Pipeline([\n",
        "    ('preprocessor', preprocessor),\n",
        "    ('model', RandomForestRegressor(n_estimators=100, random_state=42))\n",
        "])\n",
        "'''\n",
        "\n",
        "\n",
        "pipeline = Pipeline([\n",
        "    ('preprocessor', preprocessor),\n",
        "    ('model', XGBRegressor(objective='reg:squarederror', n_estimators=100, learning_rate=0.3, random_state=42))\n",
        "])\n",
        "\n",
        "\n",
        "# Model preparation\n",
        "X = df_combined[features_to_use]\n",
        "y = df_combined[target]\n",
        "X_train, X_test, y_train, y_test = train_test_split(X, y, test_size=0.3, random_state=42)\n",
        "\n",
        "# Train the model\n",
        "pipeline.fit(X_train, y_train)\n",
        "\n",
        "# Predictions and Evaluation\n",
        "y_pred = pipeline.predict(X_test)\n",
        "mse = mean_squared_error(y_test, y_pred)\n",
        "r2 = r2_score(y_test, y_pred)\n",
        "\n",
        "print(f'Mean Squared Error: {mse}')\n",
        "print(f'R-squared: {r2}')\n"
      ]
    },
    {
      "cell_type": "code",
      "execution_count": null,
      "metadata": {
        "id": "0Cc5Drx86AZR",
        "outputId": "ec04fa99-8fef-4009-ad90-6b91fa90b6ce"
      },
      "outputs": [
        {
          "ename": "",
          "evalue": "",
          "output_type": "error",
          "traceback": [
            "\u001b[1;31mRunning cells with 'Python 3.12.2' requires the ipykernel package.\n",
            "\u001b[1;31mRun the following command to install 'ipykernel' into the Python environment. \n",
            "\u001b[1;31mCommand: 'c:/Python312/python.exe -m pip install ipykernel -U --user --force-reinstall'"
          ]
        }
      ],
      "source": [
        "from sklearn.compose import ColumnTransformer\n",
        "from sklearn.impute import SimpleImputer\n",
        "from sklearn.pipeline import Pipeline\n",
        "from sklearn.preprocessing import OneHotEncoder, StandardScaler\n",
        "from sklearn.model_selection import train_test_split, GridSearchCV\n",
        "from sklearn.metrics import mean_squared_error, r2_score\n",
        "from xgboost import XGBRegressor\n",
        "import pandas as pd\n"
      ]
    },
    {
      "cell_type": "code",
      "execution_count": null,
      "metadata": {
        "id": "fZg4pwvf6AZR",
        "outputId": "b1cb5486-2df0-4fc7-89ad-30f55c3d3a4c"
      },
      "outputs": [
        {
          "ename": "",
          "evalue": "",
          "output_type": "error",
          "traceback": [
            "\u001b[1;31mRunning cells with 'Python 3.12.2' requires the ipykernel package.\n",
            "\u001b[1;31mRun the following command to install 'ipykernel' into the Python environment. \n",
            "\u001b[1;31mCommand: 'c:/Python312/python.exe -m pip install ipykernel -U --user --force-reinstall'"
          ]
        }
      ],
      "source": [
        "# Gridsearch on XGBRegressor\n",
        "\n",
        "df_combined = Manhattandf\n",
        "features_to_use = ['block', 'taxclass', 'bldgcl', 'ltfront', 'ltdepth', 'stories', 'year']\n",
        "target = 'fullval'\n",
        "\n",
        "df_combined.dropna(subset=[target], inplace=True)\n",
        "\n",
        "categorical_features = ['taxclass', 'bldgcl']\n",
        "for col in categorical_features:\n",
        "    df_combined[col] = df_combined[col].astype(str)\n",
        "\n",
        "numerical_features = [f for f in features_to_use if f not in categorical_features]\n",
        "\n",
        "preprocessor = ColumnTransformer(\n",
        "    transformers=[\n",
        "        ('num', Pipeline([\n",
        "            ('imputer', SimpleImputer(strategy='mean')),\n",
        "            ('scaler', StandardScaler())\n",
        "        ]), numerical_features),\n",
        "        ('cat', Pipeline([\n",
        "            ('imputer', SimpleImputer(strategy='constant', fill_value='missing')),\n",
        "            ('encoder', OneHotEncoder(handle_unknown='ignore'))\n",
        "        ]), categorical_features)\n",
        "    ]\n",
        ")\n",
        "\n",
        "pipeline = Pipeline([\n",
        "    ('preprocessor', preprocessor),\n",
        "    ('model', XGBRegressor(objective='reg:squarederror', n_estimators=100, learning_rate=0.3, random_state=42))\n",
        "])\n",
        "\n",
        "X = df_combined[features_to_use]\n",
        "y = df_combined[target]\n",
        "X_train, X_test, y_train, y_test = train_test_split(X, y, test_size=0.3, random_state=42)\n",
        "\n",
        "# Define the parameter grid for GridSearchCV\n",
        "# This is trying different combination of the qualities for XGBRegressor\n",
        "# Max depth refers to the maximum depth of the tree, increasing the value will make the\n",
        "# model more complex and likely to overfit, 0 means no limit in depth.\n",
        "param_grid = {\n",
        "    'model__n_estimators': [50, 100, 200],\n",
        "    'model__learning_rate': [0.01, 0.1, 0.3],\n",
        "    'model__max_depth': [3, 6, 9]\n",
        "}\n",
        "\n",
        "# Initialize GridSearchCV\n",
        "grid_search = GridSearchCV(\n",
        "    estimator=pipeline,\n",
        "    param_grid=param_grid,\n",
        "    cv=5,\n",
        "    scoring='neg_mean_squared_error',\n",
        "    verbose=2,\n",
        "    n_jobs=-1\n",
        ")\n",
        "\n",
        "# Fit GridSearchCV on the training data\n",
        "grid_search.fit(X_train, y_train)\n",
        "\n",
        "# Extract the best parameters and model\n",
        "best_parameters = grid_search.best_params_\n",
        "best_model = grid_search.best_estimator_\n",
        "\n",
        "print(\"Best Parameters:\", best_parameters)\n",
        "\n",
        "# Predict and evaluate using the best model\n",
        "y_pred = best_model.predict(X_test)\n",
        "mse = mean_squared_error(y_test, y_pred)\n",
        "r2 = r2_score(y_test, y_pred)\n",
        "\n",
        "print(f'Mean Squared Error: {mse}')\n",
        "print(f'R-squared: {r2}')\n",
        "\n",
        "'''\n",
        "Best Paramaters\n",
        "Best Parameters: {'model__learning_rate': 0.3, 'model__max_depth': 9, 'model__n_estimators': 200}\n",
        "Mean Squared Error: 13679515562653.578\n",
        "R-squared: 0.977795698786320\n",
        "'''"
      ]
    },
    {
      "cell_type": "code",
      "execution_count": null,
      "metadata": {
        "id": "8uSimBYK6AZR",
        "outputId": "e4ef8e3d-001e-488d-92d6-7481054eabb0"
      },
      "outputs": [
        {
          "ename": "",
          "evalue": "",
          "output_type": "error",
          "traceback": [
            "\u001b[1;31mRunning cells with 'Python 3.12.2' requires the ipykernel package.\n",
            "\u001b[1;31mRun the following command to install 'ipykernel' into the Python environment. \n",
            "\u001b[1;31mCommand: 'c:/Python312/python.exe -m pip install ipykernel -U --user --force-reinstall'"
          ]
        }
      ],
      "source": [
        "# Linear Regression Cross Validation\n",
        "import numpy as np\n",
        "from sklearn.model_selection import KFold, LeaveOneOut\n",
        "from sklearn.linear_model import LinearRegression\n",
        "from sklearn.metrics import mean_squared_error\n",
        "\n",
        "def evaluate_model(model, X, y, cv):\n",
        "    mse_scores = []\n",
        "    for train_index, test_index in cv.split(X):\n",
        "        X_train, X_test = X.iloc[train_index], X.iloc[test_index]\n",
        "        y_train, y_test = y.iloc[train_index], y.iloc[test_index]\n",
        "        model.fit(X_train, y_train)\n",
        "        predictions = model.predict(X_test)\n",
        "        mse = mean_squared_error(y_test, predictions)\n",
        "        mse_scores.append(mse)\n",
        "    return np.mean(mse_scores), np.std(mse_scores)\n",
        "\n",
        "# Define the model\n",
        "model = Pipeline([\n",
        "    ('preprocessor', preprocessor),\n",
        "    ('regressor', LinearRegression())\n",
        "])\n",
        "# Split your DataFrame into features and target\n",
        "X = df_combined.drop('fullval', axis=1)\n",
        "y = df_combined['fullval']\n",
        "\n",
        "# K-Fold Cross-Validation\n",
        "kf = KFold(n_splits=5)\n",
        "kf_mse, kf_std = evaluate_model(model, X, y, kf)\n",
        "print(f\"K-Fold CV: Mean MSE = {kf_mse}, Std Dev = {kf_std}\")\n"
      ]
    },
    {
      "cell_type": "markdown",
      "metadata": {
        "id": "oRzp9Kzf6AZR"
      },
      "source": [
        "Interpretation:\n",
        "\n",
        "The mean MSE value (kf_mse) tells you, on average, how far off the model's predictions are from the actual target values. In this case, the mean MSE is a very large number, indicating that, on average, the model's predictions are quite far from the actual values.\n",
        "The standard deviation of MSE (kf_std) gives you an idea of the consistency of the model's performance across different folds. A higher standard deviation suggests more variability in performance, indicating that the model might be sensitive to the particular data splits.\n",
        "In summary, the output suggests that the linear regression model, as currently configured, is not performing well on this dataset. The mean squared error is extremely large, indicating poor predictive accuracy, and the high standard deviation suggests inconsistency in performance across different folds. This might indicate that the model is either too simplistic for the data or that the features being used are not informative enough for predicting the target variable"
      ]
    },
    {
      "cell_type": "code",
      "execution_count": null,
      "metadata": {
        "id": "d5WKD6sY6AZS",
        "outputId": "051d0d1d-0c30-45dd-de65-9bc0f229f3dd"
      },
      "outputs": [
        {
          "ename": "",
          "evalue": "",
          "output_type": "error",
          "traceback": [
            "\u001b[1;31mRunning cells with 'Python 3.12.2' requires the ipykernel package.\n",
            "\u001b[1;31mRun the following command to install 'ipykernel' into the Python environment. \n",
            "\u001b[1;31mCommand: 'c:/Python312/python.exe -m pip install ipykernel -U --user --force-reinstall'"
          ]
        }
      ],
      "source": [
        "# Create scatter plot\n",
        "plt.scatter(y_test, y_pred, alpha=0.5)\n",
        "plt.plot([y_test.min(), y_test.max()], [y_test.min(), y_test.max()], 'k--', lw=2)  # Add line of best fit\n",
        "plt.xlabel('Actual Values')\n",
        "plt.ylabel('Predicted Values')\n",
        "plt.title('Actual vs. Predicted Values')\n",
        "plt.show()\n"
      ]
    },
    {
      "cell_type": "code",
      "execution_count": null,
      "metadata": {
        "id": "57nSLvtO6AZS",
        "outputId": "2859b820-0840-4f55-8c93-e7ec2ea68c20"
      },
      "outputs": [
        {
          "ename": "",
          "evalue": "",
          "output_type": "error",
          "traceback": [
            "\u001b[1;31mRunning cells with 'Python 3.12.2' requires the ipykernel package.\n",
            "\u001b[1;31mRun the following command to install 'ipykernel' into the Python environment. \n",
            "\u001b[1;31mCommand: 'c:/Python312/python.exe -m pip install ipykernel -U --user --force-reinstall'"
          ]
        }
      ],
      "source": [
        "df3['year'] = df3['year'].astype(int)\n",
        "df4 = df3.dropna(subset=['fullval'])\n",
        "df4 = df4[df4['fullval'] != 0]\n",
        "\n",
        "boro_names = {\n",
        "    1: 'Manhattan',\n",
        "    2: 'Bronx',\n",
        "    3: 'Brooklyn',\n",
        "    4: 'Queens',\n",
        "    5: 'Staten Island'\n",
        "}\n",
        "\n",
        "df4['boro'] = df4['boro'].map(boro_names)\n",
        "\n",
        "dropped_counts_per_boro = df3.groupby('boro').apply(lambda x: x.shape[0] - df4.groupby('boro').get_group(x.name).shape[0])\n",
        "\n",
        "plt.bar(dropped_counts_per_boro.index, dropped_counts_per_boro.values)\n",
        "plt.xlabel('Borough')\n",
        "plt.ylabel('Number of Dropped Data Points')\n",
        "plt.title('Data Points Dropped per Borough (fullval = 0)')\n",
        "plt.xticks(rotation=45)\n",
        "plt.show()"
      ]
    },
    {
      "cell_type": "code",
      "execution_count": null,
      "metadata": {
        "id": "nSUtd-OC6AZS",
        "outputId": "0e8f0469-4305-4e9d-df8d-2e54fd7f989a"
      },
      "outputs": [
        {
          "ename": "",
          "evalue": "",
          "output_type": "error",
          "traceback": [
            "\u001b[1;31mRunning cells with 'Python 3.12.2' requires the ipykernel package.\n",
            "\u001b[1;31mRun the following command to install 'ipykernel' into the Python environment. \n",
            "\u001b[1;31mCommand: 'c:/Python312/python.exe -m pip install ipykernel -U --user --force-reinstall'"
          ]
        }
      ],
      "source": [
        "# RandomForestRegressor Grid Search\n",
        "from sklearn.model_selection import GridSearchCV\n",
        "from sklearn.ensemble import RandomForestRegressor\n",
        "from sklearn.pipeline import Pipeline\n",
        "\n",
        "pipeline = Pipeline([\n",
        "    ('preprocessor', preprocessor),\n",
        "    ('regressor', RandomForestRegressor(random_state=42))\n",
        "])\n",
        "\n",
        "# Define the parameter grid to search over\n",
        "param_grid = {\n",
        "    'regressor__n_estimators': [100, 200, 300],\n",
        "    'regressor__max_depth': [None, 10, 20, 30],\n",
        "    'regressor__min_samples_split': [2, 5, 10],\n",
        "    'regressor__min_samples_leaf': [1, 2, 4]\n",
        "}\n",
        "\n",
        "grid_search = GridSearchCV(pipeline, param_grid, cv=5, scoring='neg_mean_squared_error', verbose=1, n_jobs=-1)\n",
        "\n",
        "grid_search.fit(X, y)\n",
        "\n",
        "best_params = grid_search.best_params_\n",
        "best_score = -grid_search.best_score_  # Add a negative because scoring is negative MSE\n",
        "\n",
        "print(f\"Best parameters: {best_params}\")\n",
        "print(f\"Best Mean Squared Error: {best_score}\")\n"
      ]
    },
    {
      "cell_type": "code",
      "execution_count": null,
      "metadata": {
        "id": "N5aj9yvV6AZT",
        "outputId": "fd7f76c9-28e1-4d28-fc92-142fcd95ea84"
      },
      "outputs": [
        {
          "ename": "",
          "evalue": "",
          "output_type": "error",
          "traceback": [
            "\u001b[1;31mRunning cells with 'Python 3.12.2' requires the ipykernel package.\n",
            "\u001b[1;31mRun the following command to install 'ipykernel' into the Python environment. \n",
            "\u001b[1;31mCommand: 'c:/Python312/python.exe -m pip install ipykernel -U --user --force-reinstall'"
          ]
        }
      ],
      "source": [
        "import numpy as np\n",
        "from sklearn.model_selection import RepeatedKFold\n",
        "from sklearn.metrics import mean_squared_error\n",
        "import matplotlib.pyplot as plt\n",
        "\n",
        "model = Pipeline([\n",
        "    ('preprocessor', preprocessor),\n",
        "    ('regressor', LinearRegression())\n",
        "])\n",
        "\n",
        "# Repeated K-Fold\n",
        "rkf = RepeatedKFold(n_splits=5, n_repeats=3, random_state=42)\n",
        "mse_scores = []\n",
        "\n",
        "for i, (train_index, test_index) in enumerate(rkf.split(X)):\n",
        "    X_train, X_test = X.iloc[train_index], X.iloc[test_index]\n",
        "    y_train, y_test = y.iloc[train_index], y.iloc[test_index]\n",
        "\n",
        "    model.fit(X_train, y_train)\n",
        "    predictions = model.predict(X_test)\n",
        "    mse = mean_squared_error(y_test, predictions)\n",
        "    mse_scores.append(mse)\n",
        "\n",
        "    plt.scatter([i+1]*len(mse_scores), mse_scores, alpha=0.5)\n",
        "\n",
        "# Visualization\n",
        "plt.boxplot([mse_scores], vert=False)\n",
        "plt.xlabel('Mean Squared Error (MSE)')\n",
        "plt.title('Repeated K-Fold Cross-Validation MSE Scores')\n",
        "plt.show()\n"
      ]
    },
    {
      "cell_type": "code",
      "execution_count": null,
      "metadata": {
        "id": "rD-31WgS6AZT",
        "outputId": "93d7a57c-21f8-4189-cbd8-983ad8921c28"
      },
      "outputs": [
        {
          "ename": "",
          "evalue": "",
          "output_type": "error",
          "traceback": [
            "\u001b[1;31mRunning cells with 'Python 3.12.2' requires the ipykernel package.\n",
            "\u001b[1;31mRun the following command to install 'ipykernel' into the Python environment. \n",
            "\u001b[1;31mCommand: 'c:/Python312/python.exe -m pip install ipykernel -U --user --force-reinstall'"
          ]
        }
      ],
      "source": [
        "# Leave-One-Out Cross Validation\n",
        "# Very Slow (unusable)\n",
        "'''\n",
        "loo = LeaveOneOut()\n",
        "loo_mse, loo_std = evaluate_model(model, X, y, loo)\n",
        "print(f\"Leave-One-Out CV: Mean MSE = {loo_mse}, Std Dev = {loo_std}\")\n",
        "'''"
      ]
    },
    {
      "cell_type": "code",
      "execution_count": null,
      "metadata": {
        "colab": {
          "base_uri": "https://localhost:8080/",
          "height": 356
        },
        "id": "k8zidAEF0F6Y",
        "outputId": "faed793f-aae1-4aa9-a487-439dca5d3893"
      },
      "outputs": [
        {
          "ename": "",
          "evalue": "",
          "output_type": "error",
          "traceback": [
            "\u001b[1;31mRunning cells with 'Python 3.12.2' requires the ipykernel package.\n",
            "\u001b[1;31mRun the following command to install 'ipykernel' into the Python environment. \n",
            "\u001b[1;31mCommand: 'c:/Python312/python.exe -m pip install ipykernel -U --user --force-reinstall'"
          ]
        }
      ],
      "source": [
        "# Ask user for input and output cost prediction\n",
        "\n",
        "# Function to handle \"N/A\" input and convert it to None (which pandas interprets as np.nan)\n",
        "def get_input(prompt, input_type=str):\n",
        "    user_input = input(prompt)\n",
        "    if user_input.lower() == 'n/a':\n",
        "        return None\n",
        "    return input_type(user_input)\n",
        "\n",
        "block =   get_input(\"Enter the block number (or N/A if unknown): \", int)\n",
        "taxclass =get_input(\"Enter the tax class (or N/A if unknown): \")\n",
        "bldgcl =  get_input(\"Enter the building class (or N/A if unknown): \")\n",
        "ltfront = get_input(\"Enter the lot frontage (or N/A if unknown): \", float)\n",
        "ltdepth = get_input(\"Enter the lot depth (or N/A if unknown): \", float)\n",
        "stories = get_input(\"Enter the number of stories (or N/A if unknown): \", int)\n"
      ]
    },
    {
      "cell_type": "code",
      "execution_count": null,
      "metadata": {
        "id": "410DuVfbw7jy",
        "outputId": "263ddb16-51de-4702-ac6f-2fd6a56421aa"
      },
      "outputs": [
        {
          "ename": "",
          "evalue": "",
          "output_type": "error",
          "traceback": [
            "\u001b[1;31mRunning cells with 'Python 3.12.2' requires the ipykernel package.\n",
            "\u001b[1;31mRun the following command to install 'ipykernel' into the Python environment. \n",
            "\u001b[1;31mCommand: 'c:/Python312/python.exe -m pip install ipykernel -U --user --force-reinstall'"
          ]
        }
      ],
      "source": [
        "'''\n",
        "year = 2018\n",
        "street_name = \"1 RIVER TERRACE\"\n",
        "block = 16\n",
        "lot_num = 3859\n",
        "fullval = 354180\n",
        "taxclass = 2\n",
        "building class = R4\n",
        "stores = 31\n",
        "'''"
      ]
    },
    {
      "cell_type": "code",
      "execution_count": null,
      "metadata": {
        "id": "2dqfigtDbkj0",
        "outputId": "cacd4d64-95f3-43d7-f80f-9cb35668bb11"
      },
      "outputs": [
        {
          "ename": "",
          "evalue": "",
          "output_type": "error",
          "traceback": [
            "\u001b[1;31mRunning cells with 'Python 3.12.2' requires the ipykernel package.\n",
            "\u001b[1;31mRun the following command to install 'ipykernel' into the Python environment. \n",
            "\u001b[1;31mCommand: 'c:/Python312/python.exe -m pip install ipykernel -U --user --force-reinstall'"
          ]
        }
      ],
      "source": [
        "year =    get_input(\"Enter the year of purchase (or N/A if unknown): \", int)\n",
        "\n",
        "user_input = pd.DataFrame({\n",
        "    'block': [block],\n",
        "    'taxclass': [taxclass],\n",
        "    'bldgcl': [bldgcl],\n",
        "    'ltfront': [ltfront],\n",
        "    'ltdepth': [ltdepth],\n",
        "    'stories': [stories],\n",
        "    'year': [year]\n",
        "})\n",
        "\n",
        "# Check if user_input contains None, replace it with np.nan\n",
        "user_input = user_input.where(pd.notnull(user_input), None)\n",
        "\n",
        "predicted_value = pipeline.predict(user_input)\n",
        "\n",
        "print(f\"The predicted value of the building is: ${predicted_value[0]:,.2f}\" if predicted_value[0] is not None else \"Insufficient data to make a prediction.\")\n"
      ]
    },
    {
      "cell_type": "code",
      "execution_count": null,
      "metadata": {
        "id": "i5QhKL68XYRZ",
        "outputId": "7cb29113-db62-4986-f27c-fee64ece0ca7"
      },
      "outputs": [
        {
          "ename": "",
          "evalue": "",
          "output_type": "error",
          "traceback": [
            "\u001b[1;31mRunning cells with 'Python 3.12.2' requires the ipykernel package.\n",
            "\u001b[1;31mRun the following command to install 'ipykernel' into the Python environment. \n",
            "\u001b[1;31mCommand: 'c:/Python312/python.exe -m pip install ipykernel -U --user --force-reinstall'"
          ]
        }
      ],
      "source": [
        "print(predicted_value)"
      ]
    },
    {
      "cell_type": "code",
      "execution_count": null,
      "metadata": {
        "id": "X0V5dFIZOzMS",
        "outputId": "73b5ac92-1736-4c57-bc77-abb71e9a2ce5"
      },
      "outputs": [
        {
          "ename": "",
          "evalue": "",
          "output_type": "error",
          "traceback": [
            "\u001b[1;31mRunning cells with 'Python 3.12.2' requires the ipykernel package.\n",
            "\u001b[1;31mRun the following command to install 'ipykernel' into the Python environment. \n",
            "\u001b[1;31mCommand: 'c:/Python312/python.exe -m pip install ipykernel -U --user --force-reinstall'"
          ]
        }
      ],
      "source": [
        "print(\"To provide more accurate predictions and graphs, please provide the following extraneous metrics\")\n",
        "lot_num  =       get_input(\"Enter the lot number (or N/A if unknown): \", int)\n",
        "street_name =    get_input(\"Enter the street_name (or N/A if unknown): \")\n"
      ]
    },
    {
      "cell_type": "code",
      "execution_count": null,
      "metadata": {
        "id": "dyvJl278MRUj",
        "outputId": "c418bcf8-9268-4eea-bd0b-317d36d4f1b7"
      },
      "outputs": [
        {
          "ename": "",
          "evalue": "",
          "output_type": "error",
          "traceback": [
            "\u001b[1;31mRunning cells with 'Python 3.12.2' requires the ipykernel package.\n",
            "\u001b[1;31mRun the following command to install 'ipykernel' into the Python environment. \n",
            "\u001b[1;31mCommand: 'c:/Python312/python.exe -m pip install ipykernel -U --user --force-reinstall'"
          ]
        }
      ],
      "source": [
        "# Create empty dict of desired years use for processing\n",
        "\n",
        "cost_against_year = {}\n",
        "\n",
        "# Store ranges of years to implement in graphical displays\n",
        "for yeardecrement in range(5, 1, -1):\n",
        "  cost_against_year[year - yeardecrement] = 0\n",
        "\n",
        "cost_against_year[year] = 0\n",
        "\n",
        "for yearincrement in range(1, 5):\n",
        "  cost_against_year[year + yearincrement] = 0\n",
        "\n",
        "\n",
        "print(cost_against_year)\n"
      ]
    },
    {
      "cell_type": "code",
      "execution_count": null,
      "metadata": {
        "id": "WDaIHmSfQewm",
        "outputId": "5f5b1087-a9d7-4aa6-aa3a-d73adc923ac5"
      },
      "outputs": [
        {
          "ename": "",
          "evalue": "",
          "output_type": "error",
          "traceback": [
            "\u001b[1;31mRunning cells with 'Python 3.12.2' requires the ipykernel package.\n",
            "\u001b[1;31mRun the following command to install 'ipykernel' into the Python environment. \n",
            "\u001b[1;31mCommand: 'c:/Python312/python.exe -m pip install ipykernel -U --user --force-reinstall'"
          ]
        }
      ],
      "source": [
        "# Loop through df to look for any existing values to base graphs off of rather than generating estimates using model\n",
        "# Then populate the rest of the years with predictions\n",
        "'''\n",
        "existing_entries_year = []\n",
        "\n",
        "for index, row in df4.iterrows():\n",
        "    if row['year'] in cost_against_year and row['staddr'] == street_name and row['lot'] == lot_num and row['block'] == block:\n",
        "        cost_against_year[row['year']] += row['fullval']\n",
        "        existing_entries_year.append(row['year'])\n",
        "'''"
      ]
    },
    {
      "cell_type": "code",
      "execution_count": null,
      "metadata": {
        "id": "PqasiPrVa5zg",
        "outputId": "84198030-927c-40f4-e818-6c5eab1a5958"
      },
      "outputs": [
        {
          "ename": "",
          "evalue": "",
          "output_type": "error",
          "traceback": [
            "\u001b[1;31mRunning cells with 'Python 3.12.2' requires the ipykernel package.\n",
            "\u001b[1;31mRun the following command to install 'ipykernel' into the Python environment. \n",
            "\u001b[1;31mCommand: 'c:/Python312/python.exe -m pip install ipykernel -U --user --force-reinstall'"
          ]
        }
      ],
      "source": [
        "for key, value in cost_against_year.items():\n",
        "  print(value)\n",
        "  if value == 0:\n",
        "    prediction_year_df = pd.DataFrame({\n",
        "    'block': [block],\n",
        "    'taxclass': [taxclass],\n",
        "    'bldgcl': [bldgcl],\n",
        "    'ltfront': [ltfront],\n",
        "    'ltdepth': [ltdepth],\n",
        "    'stories': [stories],\n",
        "    'year': [key]\n",
        "    })\n",
        "    prediction_year_df.where(pd.notnull(user_input), None)\n",
        "\n",
        "    predicition_year = pipeline.predict(prediction_year_df)\n",
        "    print(key, \"year\")\n",
        "    print(predicition_year)\n",
        "    cost_against_year[key] = predicition_year[0]"
      ]
    },
    {
      "cell_type": "code",
      "execution_count": null,
      "metadata": {
        "id": "W5iqplJOWFHF",
        "outputId": "cc58f77b-290a-4f1a-885f-6a5cf8651d5b"
      },
      "outputs": [
        {
          "ename": "",
          "evalue": "",
          "output_type": "error",
          "traceback": [
            "\u001b[1;31mRunning cells with 'Python 3.12.2' requires the ipykernel package.\n",
            "\u001b[1;31mRun the following command to install 'ipykernel' into the Python environment. \n",
            "\u001b[1;31mCommand: 'c:/Python312/python.exe -m pip install ipykernel -U --user --force-reinstall'"
          ]
        }
      ],
      "source": [
        "print(cost_against_year)"
      ]
    },
    {
      "cell_type": "code",
      "execution_count": null,
      "metadata": {
        "id": "1pDk5-y87T-W",
        "outputId": "81b27ef7-c43e-4fc1-feae-5259220db17a"
      },
      "outputs": [
        {
          "ename": "",
          "evalue": "",
          "output_type": "error",
          "traceback": [
            "\u001b[1;31mRunning cells with 'Python 3.12.2' requires the ipykernel package.\n",
            "\u001b[1;31mRun the following command to install 'ipykernel' into the Python environment. \n",
            "\u001b[1;31mCommand: 'c:/Python312/python.exe -m pip install ipykernel -U --user --force-reinstall'"
          ]
        }
      ],
      "source": [
        "# Heatmap of high profit and low profit areas red adn blue\n",
        "# Genrerate change of cost over the years\n",
        "# Line graphs of price change\n",
        "# Use gpt to update with real time events and produce a better humanlike itnerface"
      ]
    }
  ],
  "metadata": {
    "colab": {
      "provenance": [],
      "include_colab_link": true
    },
    "kernelspec": {
      "display_name": "Python 3",
      "name": "python3"
    },
    "language_info": {
      "codemirror_mode": {
        "name": "ipython",
        "version": 3
      },
      "file_extension": ".py",
      "mimetype": "text/x-python",
      "name": "python",
      "nbconvert_exporter": "python",
      "pygments_lexer": "ipython3",
      "version": "3.12.2"
    }
  },
  "nbformat": 4,
  "nbformat_minor": 0
}